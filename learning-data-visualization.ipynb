{
 "cells": [
  {
   "cell_type": "code",
   "execution_count": 1,
   "id": "84d0adf7",
   "metadata": {
    "_cell_guid": "b1076dfc-b9ad-4769-8c92-a6c4dae69d19",
    "_uuid": "8f2839f25d086af736a60e9eeb907d3b93b6e0e5",
    "execution": {
     "iopub.execute_input": "2022-04-01T05:53:26.152390Z",
     "iopub.status.busy": "2022-04-01T05:53:26.144960Z",
     "iopub.status.idle": "2022-04-01T05:53:27.337431Z",
     "shell.execute_reply": "2022-04-01T05:53:27.336666Z",
     "shell.execute_reply.started": "2022-04-01T05:49:49.119855Z"
    },
    "papermill": {
     "duration": 1.213903,
     "end_time": "2022-04-01T05:53:27.337708",
     "exception": false,
     "start_time": "2022-04-01T05:53:26.123805",
     "status": "completed"
    },
    "tags": []
   },
   "outputs": [],
   "source": [
    "\n",
    "import numpy as np # linear algebra\n",
    "import pandas as pd # data processing, CSV file I/O (e.g. pd.read_csv)\n",
    "import matplotlib.pyplot as plt\n",
    "import seaborn as sns\n",
    "%matplotlib inline"
   ]
  },
  {
   "cell_type": "markdown",
   "id": "00e3eb79",
   "metadata": {
    "papermill": {
     "duration": 0.015641,
     "end_time": "2022-04-01T05:53:27.369802",
     "exception": false,
     "start_time": "2022-04-01T05:53:27.354161",
     "status": "completed"
    },
    "tags": []
   },
   "source": [
    "## Importing the dataset"
   ]
  },
  {
   "cell_type": "code",
   "execution_count": 2,
   "id": "24910407",
   "metadata": {
    "execution": {
     "iopub.execute_input": "2022-04-01T05:53:27.409990Z",
     "iopub.status.busy": "2022-04-01T05:53:27.409161Z",
     "iopub.status.idle": "2022-04-01T05:53:27.436939Z",
     "shell.execute_reply": "2022-04-01T05:53:27.437805Z",
     "shell.execute_reply.started": "2022-04-01T05:50:10.188833Z"
    },
    "papermill": {
     "duration": 0.052306,
     "end_time": "2022-04-01T05:53:27.438064",
     "exception": false,
     "start_time": "2022-04-01T05:53:27.385758",
     "status": "completed"
    },
    "tags": []
   },
   "outputs": [],
   "source": [
    "#filepath = \"../input/spotify-top-50-songs-in-2021/spotify_top50_2021.csv\"\n",
    "df = pd.read_csv('../input/spotify-top-50-songs-in-2021/spotify_top50_2021.csv',index_col = 'id')"
   ]
  },
  {
   "cell_type": "code",
   "execution_count": 3,
   "id": "29a0c6c4",
   "metadata": {
    "execution": {
     "iopub.execute_input": "2022-04-01T05:53:27.476346Z",
     "iopub.status.busy": "2022-04-01T05:53:27.475597Z",
     "iopub.status.idle": "2022-04-01T05:53:27.508385Z",
     "shell.execute_reply": "2022-04-01T05:53:27.508915Z",
     "shell.execute_reply.started": "2022-04-01T05:50:13.436289Z"
    },
    "papermill": {
     "duration": 0.053646,
     "end_time": "2022-04-01T05:53:27.509123",
     "exception": false,
     "start_time": "2022-04-01T05:53:27.455477",
     "status": "completed"
    },
    "tags": []
   },
   "outputs": [
    {
     "data": {
      "text/html": [
       "<div>\n",
       "<style scoped>\n",
       "    .dataframe tbody tr th:only-of-type {\n",
       "        vertical-align: middle;\n",
       "    }\n",
       "\n",
       "    .dataframe tbody tr th {\n",
       "        vertical-align: top;\n",
       "    }\n",
       "\n",
       "    .dataframe thead th {\n",
       "        text-align: right;\n",
       "    }\n",
       "</style>\n",
       "<table border=\"1\" class=\"dataframe\">\n",
       "  <thead>\n",
       "    <tr style=\"text-align: right;\">\n",
       "      <th></th>\n",
       "      <th>artist_name</th>\n",
       "      <th>track_name</th>\n",
       "      <th>track_id</th>\n",
       "      <th>popularity</th>\n",
       "      <th>danceability</th>\n",
       "      <th>energy</th>\n",
       "      <th>key</th>\n",
       "      <th>loudness</th>\n",
       "      <th>mode</th>\n",
       "      <th>speechiness</th>\n",
       "      <th>acousticness</th>\n",
       "      <th>instrumentalness</th>\n",
       "      <th>liveness</th>\n",
       "      <th>valence</th>\n",
       "      <th>tempo</th>\n",
       "      <th>duration_ms</th>\n",
       "      <th>time_signature</th>\n",
       "    </tr>\n",
       "    <tr>\n",
       "      <th>id</th>\n",
       "      <th></th>\n",
       "      <th></th>\n",
       "      <th></th>\n",
       "      <th></th>\n",
       "      <th></th>\n",
       "      <th></th>\n",
       "      <th></th>\n",
       "      <th></th>\n",
       "      <th></th>\n",
       "      <th></th>\n",
       "      <th></th>\n",
       "      <th></th>\n",
       "      <th></th>\n",
       "      <th></th>\n",
       "      <th></th>\n",
       "      <th></th>\n",
       "      <th></th>\n",
       "    </tr>\n",
       "  </thead>\n",
       "  <tbody>\n",
       "    <tr>\n",
       "      <th>1</th>\n",
       "      <td>Olivia Rodrigo</td>\n",
       "      <td>drivers license</td>\n",
       "      <td>5wANPM4fQCJwkGd4rN57mH</td>\n",
       "      <td>92</td>\n",
       "      <td>0.561</td>\n",
       "      <td>0.431</td>\n",
       "      <td>10</td>\n",
       "      <td>-8.810</td>\n",
       "      <td>1</td>\n",
       "      <td>0.0578</td>\n",
       "      <td>0.76800</td>\n",
       "      <td>0.000014</td>\n",
       "      <td>0.1060</td>\n",
       "      <td>0.137</td>\n",
       "      <td>143.875</td>\n",
       "      <td>242013</td>\n",
       "      <td>4</td>\n",
       "    </tr>\n",
       "    <tr>\n",
       "      <th>2</th>\n",
       "      <td>Lil Nas X</td>\n",
       "      <td>MONTERO (Call Me By Your Name)</td>\n",
       "      <td>1SC5rEoYDGUK4NfG82494W</td>\n",
       "      <td>90</td>\n",
       "      <td>0.593</td>\n",
       "      <td>0.503</td>\n",
       "      <td>8</td>\n",
       "      <td>-6.725</td>\n",
       "      <td>0</td>\n",
       "      <td>0.2200</td>\n",
       "      <td>0.29300</td>\n",
       "      <td>0.000000</td>\n",
       "      <td>0.4050</td>\n",
       "      <td>0.710</td>\n",
       "      <td>178.781</td>\n",
       "      <td>137704</td>\n",
       "      <td>4</td>\n",
       "    </tr>\n",
       "    <tr>\n",
       "      <th>3</th>\n",
       "      <td>The Kid LAROI</td>\n",
       "      <td>STAY (with Justin Bieber)</td>\n",
       "      <td>5PjdY0CKGZdEuoNab3yDmX</td>\n",
       "      <td>92</td>\n",
       "      <td>0.591</td>\n",
       "      <td>0.764</td>\n",
       "      <td>1</td>\n",
       "      <td>-5.484</td>\n",
       "      <td>1</td>\n",
       "      <td>0.0483</td>\n",
       "      <td>0.03830</td>\n",
       "      <td>0.000000</td>\n",
       "      <td>0.1030</td>\n",
       "      <td>0.478</td>\n",
       "      <td>169.928</td>\n",
       "      <td>141806</td>\n",
       "      <td>4</td>\n",
       "    </tr>\n",
       "    <tr>\n",
       "      <th>4</th>\n",
       "      <td>Olivia Rodrigo</td>\n",
       "      <td>good 4 u</td>\n",
       "      <td>4ZtFanR9U6ndgddUvNcjcG</td>\n",
       "      <td>95</td>\n",
       "      <td>0.563</td>\n",
       "      <td>0.664</td>\n",
       "      <td>9</td>\n",
       "      <td>-5.044</td>\n",
       "      <td>1</td>\n",
       "      <td>0.1540</td>\n",
       "      <td>0.33500</td>\n",
       "      <td>0.000000</td>\n",
       "      <td>0.0849</td>\n",
       "      <td>0.688</td>\n",
       "      <td>166.928</td>\n",
       "      <td>178147</td>\n",
       "      <td>4</td>\n",
       "    </tr>\n",
       "    <tr>\n",
       "      <th>5</th>\n",
       "      <td>Dua Lipa</td>\n",
       "      <td>Levitating (feat. DaBaby)</td>\n",
       "      <td>5nujrmhLynf4yMoMtj8AQF</td>\n",
       "      <td>89</td>\n",
       "      <td>0.702</td>\n",
       "      <td>0.825</td>\n",
       "      <td>6</td>\n",
       "      <td>-3.787</td>\n",
       "      <td>0</td>\n",
       "      <td>0.0601</td>\n",
       "      <td>0.00883</td>\n",
       "      <td>0.000000</td>\n",
       "      <td>0.0674</td>\n",
       "      <td>0.915</td>\n",
       "      <td>102.977</td>\n",
       "      <td>203064</td>\n",
       "      <td>4</td>\n",
       "    </tr>\n",
       "  </tbody>\n",
       "</table>\n",
       "</div>"
      ],
      "text/plain": [
       "       artist_name                      track_name                track_id  \\\n",
       "id                                                                           \n",
       "1   Olivia Rodrigo                 drivers license  5wANPM4fQCJwkGd4rN57mH   \n",
       "2        Lil Nas X  MONTERO (Call Me By Your Name)  1SC5rEoYDGUK4NfG82494W   \n",
       "3    The Kid LAROI       STAY (with Justin Bieber)  5PjdY0CKGZdEuoNab3yDmX   \n",
       "4   Olivia Rodrigo                        good 4 u  4ZtFanR9U6ndgddUvNcjcG   \n",
       "5         Dua Lipa       Levitating (feat. DaBaby)  5nujrmhLynf4yMoMtj8AQF   \n",
       "\n",
       "    popularity  danceability  energy  key  loudness  mode  speechiness  \\\n",
       "id                                                                       \n",
       "1           92         0.561   0.431   10    -8.810     1       0.0578   \n",
       "2           90         0.593   0.503    8    -6.725     0       0.2200   \n",
       "3           92         0.591   0.764    1    -5.484     1       0.0483   \n",
       "4           95         0.563   0.664    9    -5.044     1       0.1540   \n",
       "5           89         0.702   0.825    6    -3.787     0       0.0601   \n",
       "\n",
       "    acousticness  instrumentalness  liveness  valence    tempo  duration_ms  \\\n",
       "id                                                                            \n",
       "1        0.76800          0.000014    0.1060    0.137  143.875       242013   \n",
       "2        0.29300          0.000000    0.4050    0.710  178.781       137704   \n",
       "3        0.03830          0.000000    0.1030    0.478  169.928       141806   \n",
       "4        0.33500          0.000000    0.0849    0.688  166.928       178147   \n",
       "5        0.00883          0.000000    0.0674    0.915  102.977       203064   \n",
       "\n",
       "    time_signature  \n",
       "id                  \n",
       "1                4  \n",
       "2                4  \n",
       "3                4  \n",
       "4                4  \n",
       "5                4  "
      ]
     },
     "execution_count": 3,
     "metadata": {},
     "output_type": "execute_result"
    }
   ],
   "source": [
    "df.head()"
   ]
  },
  {
   "cell_type": "markdown",
   "id": "5093b815",
   "metadata": {
    "papermill": {
     "duration": 0.016853,
     "end_time": "2022-04-01T05:53:27.543101",
     "exception": false,
     "start_time": "2022-04-01T05:53:27.526248",
     "status": "completed"
    },
    "tags": []
   },
   "source": [
    "### Droping the unnecessary columns"
   ]
  },
  {
   "cell_type": "code",
   "execution_count": 4,
   "id": "a19531be",
   "metadata": {
    "execution": {
     "iopub.execute_input": "2022-04-01T05:53:27.586758Z",
     "iopub.status.busy": "2022-04-01T05:53:27.586031Z",
     "iopub.status.idle": "2022-04-01T05:53:27.587483Z",
     "shell.execute_reply": "2022-04-01T05:53:27.588112Z",
     "shell.execute_reply.started": "2022-04-01T05:50:15.355772Z"
    },
    "papermill": {
     "duration": 0.028083,
     "end_time": "2022-04-01T05:53:27.588322",
     "exception": false,
     "start_time": "2022-04-01T05:53:27.560239",
     "status": "completed"
    },
    "tags": []
   },
   "outputs": [],
   "source": [
    "df.drop(columns = ['track_id'], inplace = True)"
   ]
  },
  {
   "cell_type": "code",
   "execution_count": 5,
   "id": "a019a893",
   "metadata": {
    "execution": {
     "iopub.execute_input": "2022-04-01T05:53:27.625367Z",
     "iopub.status.busy": "2022-04-01T05:53:27.624685Z",
     "iopub.status.idle": "2022-04-01T05:53:27.643972Z",
     "shell.execute_reply": "2022-04-01T05:53:27.644495Z",
     "shell.execute_reply.started": "2022-04-01T05:50:16.312445Z"
    },
    "papermill": {
     "duration": 0.039667,
     "end_time": "2022-04-01T05:53:27.644741",
     "exception": false,
     "start_time": "2022-04-01T05:53:27.605074",
     "status": "completed"
    },
    "tags": []
   },
   "outputs": [
    {
     "data": {
      "text/html": [
       "<div>\n",
       "<style scoped>\n",
       "    .dataframe tbody tr th:only-of-type {\n",
       "        vertical-align: middle;\n",
       "    }\n",
       "\n",
       "    .dataframe tbody tr th {\n",
       "        vertical-align: top;\n",
       "    }\n",
       "\n",
       "    .dataframe thead th {\n",
       "        text-align: right;\n",
       "    }\n",
       "</style>\n",
       "<table border=\"1\" class=\"dataframe\">\n",
       "  <thead>\n",
       "    <tr style=\"text-align: right;\">\n",
       "      <th></th>\n",
       "      <th>artist_name</th>\n",
       "      <th>track_name</th>\n",
       "      <th>popularity</th>\n",
       "      <th>danceability</th>\n",
       "      <th>energy</th>\n",
       "      <th>key</th>\n",
       "      <th>loudness</th>\n",
       "      <th>mode</th>\n",
       "      <th>speechiness</th>\n",
       "      <th>acousticness</th>\n",
       "      <th>instrumentalness</th>\n",
       "      <th>liveness</th>\n",
       "      <th>valence</th>\n",
       "      <th>tempo</th>\n",
       "      <th>duration_ms</th>\n",
       "      <th>time_signature</th>\n",
       "    </tr>\n",
       "    <tr>\n",
       "      <th>id</th>\n",
       "      <th></th>\n",
       "      <th></th>\n",
       "      <th></th>\n",
       "      <th></th>\n",
       "      <th></th>\n",
       "      <th></th>\n",
       "      <th></th>\n",
       "      <th></th>\n",
       "      <th></th>\n",
       "      <th></th>\n",
       "      <th></th>\n",
       "      <th></th>\n",
       "      <th></th>\n",
       "      <th></th>\n",
       "      <th></th>\n",
       "      <th></th>\n",
       "    </tr>\n",
       "  </thead>\n",
       "  <tbody>\n",
       "    <tr>\n",
       "      <th>1</th>\n",
       "      <td>Olivia Rodrigo</td>\n",
       "      <td>drivers license</td>\n",
       "      <td>92</td>\n",
       "      <td>0.561</td>\n",
       "      <td>0.431</td>\n",
       "      <td>10</td>\n",
       "      <td>-8.810</td>\n",
       "      <td>1</td>\n",
       "      <td>0.0578</td>\n",
       "      <td>0.76800</td>\n",
       "      <td>0.000014</td>\n",
       "      <td>0.1060</td>\n",
       "      <td>0.137</td>\n",
       "      <td>143.875</td>\n",
       "      <td>242013</td>\n",
       "      <td>4</td>\n",
       "    </tr>\n",
       "    <tr>\n",
       "      <th>2</th>\n",
       "      <td>Lil Nas X</td>\n",
       "      <td>MONTERO (Call Me By Your Name)</td>\n",
       "      <td>90</td>\n",
       "      <td>0.593</td>\n",
       "      <td>0.503</td>\n",
       "      <td>8</td>\n",
       "      <td>-6.725</td>\n",
       "      <td>0</td>\n",
       "      <td>0.2200</td>\n",
       "      <td>0.29300</td>\n",
       "      <td>0.000000</td>\n",
       "      <td>0.4050</td>\n",
       "      <td>0.710</td>\n",
       "      <td>178.781</td>\n",
       "      <td>137704</td>\n",
       "      <td>4</td>\n",
       "    </tr>\n",
       "    <tr>\n",
       "      <th>3</th>\n",
       "      <td>The Kid LAROI</td>\n",
       "      <td>STAY (with Justin Bieber)</td>\n",
       "      <td>92</td>\n",
       "      <td>0.591</td>\n",
       "      <td>0.764</td>\n",
       "      <td>1</td>\n",
       "      <td>-5.484</td>\n",
       "      <td>1</td>\n",
       "      <td>0.0483</td>\n",
       "      <td>0.03830</td>\n",
       "      <td>0.000000</td>\n",
       "      <td>0.1030</td>\n",
       "      <td>0.478</td>\n",
       "      <td>169.928</td>\n",
       "      <td>141806</td>\n",
       "      <td>4</td>\n",
       "    </tr>\n",
       "    <tr>\n",
       "      <th>4</th>\n",
       "      <td>Olivia Rodrigo</td>\n",
       "      <td>good 4 u</td>\n",
       "      <td>95</td>\n",
       "      <td>0.563</td>\n",
       "      <td>0.664</td>\n",
       "      <td>9</td>\n",
       "      <td>-5.044</td>\n",
       "      <td>1</td>\n",
       "      <td>0.1540</td>\n",
       "      <td>0.33500</td>\n",
       "      <td>0.000000</td>\n",
       "      <td>0.0849</td>\n",
       "      <td>0.688</td>\n",
       "      <td>166.928</td>\n",
       "      <td>178147</td>\n",
       "      <td>4</td>\n",
       "    </tr>\n",
       "    <tr>\n",
       "      <th>5</th>\n",
       "      <td>Dua Lipa</td>\n",
       "      <td>Levitating (feat. DaBaby)</td>\n",
       "      <td>89</td>\n",
       "      <td>0.702</td>\n",
       "      <td>0.825</td>\n",
       "      <td>6</td>\n",
       "      <td>-3.787</td>\n",
       "      <td>0</td>\n",
       "      <td>0.0601</td>\n",
       "      <td>0.00883</td>\n",
       "      <td>0.000000</td>\n",
       "      <td>0.0674</td>\n",
       "      <td>0.915</td>\n",
       "      <td>102.977</td>\n",
       "      <td>203064</td>\n",
       "      <td>4</td>\n",
       "    </tr>\n",
       "  </tbody>\n",
       "</table>\n",
       "</div>"
      ],
      "text/plain": [
       "       artist_name                      track_name  popularity  danceability  \\\n",
       "id                                                                             \n",
       "1   Olivia Rodrigo                 drivers license          92         0.561   \n",
       "2        Lil Nas X  MONTERO (Call Me By Your Name)          90         0.593   \n",
       "3    The Kid LAROI       STAY (with Justin Bieber)          92         0.591   \n",
       "4   Olivia Rodrigo                        good 4 u          95         0.563   \n",
       "5         Dua Lipa       Levitating (feat. DaBaby)          89         0.702   \n",
       "\n",
       "    energy  key  loudness  mode  speechiness  acousticness  instrumentalness  \\\n",
       "id                                                                             \n",
       "1    0.431   10    -8.810     1       0.0578       0.76800          0.000014   \n",
       "2    0.503    8    -6.725     0       0.2200       0.29300          0.000000   \n",
       "3    0.764    1    -5.484     1       0.0483       0.03830          0.000000   \n",
       "4    0.664    9    -5.044     1       0.1540       0.33500          0.000000   \n",
       "5    0.825    6    -3.787     0       0.0601       0.00883          0.000000   \n",
       "\n",
       "    liveness  valence    tempo  duration_ms  time_signature  \n",
       "id                                                           \n",
       "1     0.1060    0.137  143.875       242013               4  \n",
       "2     0.4050    0.710  178.781       137704               4  \n",
       "3     0.1030    0.478  169.928       141806               4  \n",
       "4     0.0849    0.688  166.928       178147               4  \n",
       "5     0.0674    0.915  102.977       203064               4  "
      ]
     },
     "execution_count": 5,
     "metadata": {},
     "output_type": "execute_result"
    }
   ],
   "source": [
    "df.head()"
   ]
  },
  {
   "cell_type": "markdown",
   "id": "9c2389f7",
   "metadata": {
    "papermill": {
     "duration": 0.017361,
     "end_time": "2022-04-01T05:53:27.679402",
     "exception": false,
     "start_time": "2022-04-01T05:53:27.662041",
     "status": "completed"
    },
    "tags": []
   },
   "source": [
    "### Data Visualization"
   ]
  },
  {
   "cell_type": "markdown",
   "id": "79211fcb",
   "metadata": {
    "papermill": {
     "duration": 0.017173,
     "end_time": "2022-04-01T05:53:27.714084",
     "exception": false,
     "start_time": "2022-04-01T05:53:27.696911",
     "status": "completed"
    },
    "tags": []
   },
   "source": [
    "**1. Heatmap**"
   ]
  },
  {
   "cell_type": "code",
   "execution_count": 6,
   "id": "97e8948c",
   "metadata": {
    "execution": {
     "iopub.execute_input": "2022-04-01T05:53:27.752196Z",
     "iopub.status.busy": "2022-04-01T05:53:27.751500Z",
     "iopub.status.idle": "2022-04-01T05:53:28.292036Z",
     "shell.execute_reply": "2022-04-01T05:53:28.291301Z",
     "shell.execute_reply.started": "2022-04-01T05:50:19.514875Z"
    },
    "papermill": {
     "duration": 0.56072,
     "end_time": "2022-04-01T05:53:28.292196",
     "exception": false,
     "start_time": "2022-04-01T05:53:27.731476",
     "status": "completed"
    },
    "tags": []
   },
   "outputs": [
    {
     "data": {
      "text/plain": [
       "Text(0.5, 1.0, 'Correlation Heatmap')"
      ]
     },
     "execution_count": 6,
     "metadata": {},
     "output_type": "execute_result"
    },
    {
     "data": {
      "image/png": "[encoded data removed]",
      "text/plain": [
       "<Figure size 720x504 with 2 Axes>"
      ]
     },
     "metadata": {
      "needs_background": "light"
     },
     "output_type": "display_data"
    }
   ],
   "source": [
    "corr_df = df.drop(columns = ['artist_name','track_name']).corr(method= 'pearson')\n",
    "plt.figure(figsize = [10,7])\n",
    "\n",
    "sns.heatmap(corr_df, cmap='coolwarm')\n",
    "plt.title(\"Correlation Heatmap\")"
   ]
  },
  {
   "cell_type": "markdown",
   "id": "8b51d216",
   "metadata": {
    "papermill": {
     "duration": 0.018295,
     "end_time": "2022-04-01T05:53:28.330008",
     "exception": false,
     "start_time": "2022-04-01T05:53:28.311713",
     "status": "completed"
    },
    "tags": []
   },
   "source": [
    "**2. Regression Plot**"
   ]
  },
  {
   "cell_type": "code",
   "execution_count": 7,
   "id": "9e35a2e7",
   "metadata": {
    "execution": {
     "iopub.execute_input": "2022-04-01T05:53:28.402780Z",
     "iopub.status.busy": "2022-04-01T05:53:28.402108Z",
     "iopub.status.idle": "2022-04-01T05:53:28.736971Z",
     "shell.execute_reply": "2022-04-01T05:53:28.736251Z",
     "shell.execute_reply.started": "2022-04-01T05:50:25.272054Z"
    },
    "papermill": {
     "duration": 0.388484,
     "end_time": "2022-04-01T05:53:28.737122",
     "exception": false,
     "start_time": "2022-04-01T05:53:28.348638",
     "status": "completed"
    },
    "tags": []
   },
   "outputs": [
    {
     "data": {
      "text/plain": [
       "[Text(0.5, 1.0, 'Popularity Vs Dancebility Correlation')]"
      ]
     },
     "execution_count": 7,
     "metadata": {},
     "output_type": "execute_result"
    },
    {
     "data": {
      "image/png": "[encoded data removed]",
      "text/plain": [
       "<Figure size 720x360 with 1 Axes>"
      ]
     },
     "metadata": {
      "needs_background": "light"
     },
     "output_type": "display_data"
    }
   ],
   "source": [
    "plt.figure(figsize = [10,5])\n",
    "\n",
    "sns.regplot(x=df['danceability'], y=df['popularity'], color = 'green', marker = 'v').set(title = 'Popularity Vs Dancebility Correlation')"
   ]
  },
  {
   "cell_type": "code",
   "execution_count": 8,
   "id": "eb48f5db",
   "metadata": {
    "execution": {
     "iopub.execute_input": "2022-04-01T05:53:28.801513Z",
     "iopub.status.busy": "2022-04-01T05:53:28.800663Z",
     "iopub.status.idle": "2022-04-01T05:53:28.804141Z",
     "shell.execute_reply": "2022-04-01T05:53:28.804674Z",
     "shell.execute_reply.started": "2022-04-01T05:50:29.565129Z"
    },
    "papermill": {
     "duration": 0.047446,
     "end_time": "2022-04-01T05:53:28.804866",
     "exception": false,
     "start_time": "2022-04-01T05:53:28.757420",
     "status": "completed"
    },
    "tags": []
   },
   "outputs": [
    {
     "data": {
      "text/html": [
       "<div>\n",
       "<style scoped>\n",
       "    .dataframe tbody tr th:only-of-type {\n",
       "        vertical-align: middle;\n",
       "    }\n",
       "\n",
       "    .dataframe tbody tr th {\n",
       "        vertical-align: top;\n",
       "    }\n",
       "\n",
       "    .dataframe thead th {\n",
       "        text-align: right;\n",
       "    }\n",
       "</style>\n",
       "<table border=\"1\" class=\"dataframe\">\n",
       "  <thead>\n",
       "    <tr style=\"text-align: right;\">\n",
       "      <th></th>\n",
       "      <th>artist_name</th>\n",
       "      <th>track_name</th>\n",
       "      <th>popularity</th>\n",
       "      <th>danceability</th>\n",
       "      <th>energy</th>\n",
       "      <th>key</th>\n",
       "      <th>loudness</th>\n",
       "      <th>mode</th>\n",
       "      <th>speechiness</th>\n",
       "      <th>acousticness</th>\n",
       "      <th>instrumentalness</th>\n",
       "      <th>liveness</th>\n",
       "      <th>valence</th>\n",
       "      <th>tempo</th>\n",
       "      <th>duration_ms</th>\n",
       "      <th>time_signature</th>\n",
       "    </tr>\n",
       "    <tr>\n",
       "      <th>id</th>\n",
       "      <th></th>\n",
       "      <th></th>\n",
       "      <th></th>\n",
       "      <th></th>\n",
       "      <th></th>\n",
       "      <th></th>\n",
       "      <th></th>\n",
       "      <th></th>\n",
       "      <th></th>\n",
       "      <th></th>\n",
       "      <th></th>\n",
       "      <th></th>\n",
       "      <th></th>\n",
       "      <th></th>\n",
       "      <th></th>\n",
       "      <th></th>\n",
       "    </tr>\n",
       "  </thead>\n",
       "  <tbody>\n",
       "    <tr>\n",
       "      <th>1</th>\n",
       "      <td>Olivia Rodrigo</td>\n",
       "      <td>drivers license</td>\n",
       "      <td>92</td>\n",
       "      <td>0.561</td>\n",
       "      <td>0.431</td>\n",
       "      <td>10</td>\n",
       "      <td>-8.810</td>\n",
       "      <td>1</td>\n",
       "      <td>0.0578</td>\n",
       "      <td>0.76800</td>\n",
       "      <td>0.000014</td>\n",
       "      <td>0.1060</td>\n",
       "      <td>0.137</td>\n",
       "      <td>143.875</td>\n",
       "      <td>242013</td>\n",
       "      <td>4</td>\n",
       "    </tr>\n",
       "    <tr>\n",
       "      <th>2</th>\n",
       "      <td>Lil Nas X</td>\n",
       "      <td>MONTERO (Call Me By Your Name)</td>\n",
       "      <td>90</td>\n",
       "      <td>0.593</td>\n",
       "      <td>0.503</td>\n",
       "      <td>8</td>\n",
       "      <td>-6.725</td>\n",
       "      <td>0</td>\n",
       "      <td>0.2200</td>\n",
       "      <td>0.29300</td>\n",
       "      <td>0.000000</td>\n",
       "      <td>0.4050</td>\n",
       "      <td>0.710</td>\n",
       "      <td>178.781</td>\n",
       "      <td>137704</td>\n",
       "      <td>4</td>\n",
       "    </tr>\n",
       "    <tr>\n",
       "      <th>3</th>\n",
       "      <td>The Kid LAROI</td>\n",
       "      <td>STAY (with Justin Bieber)</td>\n",
       "      <td>92</td>\n",
       "      <td>0.591</td>\n",
       "      <td>0.764</td>\n",
       "      <td>1</td>\n",
       "      <td>-5.484</td>\n",
       "      <td>1</td>\n",
       "      <td>0.0483</td>\n",
       "      <td>0.03830</td>\n",
       "      <td>0.000000</td>\n",
       "      <td>0.1030</td>\n",
       "      <td>0.478</td>\n",
       "      <td>169.928</td>\n",
       "      <td>141806</td>\n",
       "      <td>4</td>\n",
       "    </tr>\n",
       "    <tr>\n",
       "      <th>4</th>\n",
       "      <td>Olivia Rodrigo</td>\n",
       "      <td>good 4 u</td>\n",
       "      <td>95</td>\n",
       "      <td>0.563</td>\n",
       "      <td>0.664</td>\n",
       "      <td>9</td>\n",
       "      <td>-5.044</td>\n",
       "      <td>1</td>\n",
       "      <td>0.1540</td>\n",
       "      <td>0.33500</td>\n",
       "      <td>0.000000</td>\n",
       "      <td>0.0849</td>\n",
       "      <td>0.688</td>\n",
       "      <td>166.928</td>\n",
       "      <td>178147</td>\n",
       "      <td>4</td>\n",
       "    </tr>\n",
       "    <tr>\n",
       "      <th>5</th>\n",
       "      <td>Dua Lipa</td>\n",
       "      <td>Levitating (feat. DaBaby)</td>\n",
       "      <td>89</td>\n",
       "      <td>0.702</td>\n",
       "      <td>0.825</td>\n",
       "      <td>6</td>\n",
       "      <td>-3.787</td>\n",
       "      <td>0</td>\n",
       "      <td>0.0601</td>\n",
       "      <td>0.00883</td>\n",
       "      <td>0.000000</td>\n",
       "      <td>0.0674</td>\n",
       "      <td>0.915</td>\n",
       "      <td>102.977</td>\n",
       "      <td>203064</td>\n",
       "      <td>4</td>\n",
       "    </tr>\n",
       "  </tbody>\n",
       "</table>\n",
       "</div>"
      ],
      "text/plain": [
       "       artist_name                      track_name  popularity  danceability  \\\n",
       "id                                                                             \n",
       "1   Olivia Rodrigo                 drivers license          92         0.561   \n",
       "2        Lil Nas X  MONTERO (Call Me By Your Name)          90         0.593   \n",
       "3    The Kid LAROI       STAY (with Justin Bieber)          92         0.591   \n",
       "4   Olivia Rodrigo                        good 4 u          95         0.563   \n",
       "5         Dua Lipa       Levitating (feat. DaBaby)          89         0.702   \n",
       "\n",
       "    energy  key  loudness  mode  speechiness  acousticness  instrumentalness  \\\n",
       "id                                                                             \n",
       "1    0.431   10    -8.810     1       0.0578       0.76800          0.000014   \n",
       "2    0.503    8    -6.725     0       0.2200       0.29300          0.000000   \n",
       "3    0.764    1    -5.484     1       0.0483       0.03830          0.000000   \n",
       "4    0.664    9    -5.044     1       0.1540       0.33500          0.000000   \n",
       "5    0.825    6    -3.787     0       0.0601       0.00883          0.000000   \n",
       "\n",
       "    liveness  valence    tempo  duration_ms  time_signature  \n",
       "id                                                           \n",
       "1     0.1060    0.137  143.875       242013               4  \n",
       "2     0.4050    0.710  178.781       137704               4  \n",
       "3     0.1030    0.478  169.928       141806               4  \n",
       "4     0.0849    0.688  166.928       178147               4  \n",
       "5     0.0674    0.915  102.977       203064               4  "
      ]
     },
     "execution_count": 8,
     "metadata": {},
     "output_type": "execute_result"
    }
   ],
   "source": [
    "df.head()"
   ]
  },
  {
   "cell_type": "code",
   "execution_count": 9,
   "id": "556f6303",
   "metadata": {
    "execution": {
     "iopub.execute_input": "2022-04-01T05:53:28.852133Z",
     "iopub.status.busy": "2022-04-01T05:53:28.851173Z",
     "iopub.status.idle": "2022-04-01T05:53:28.857813Z",
     "shell.execute_reply": "2022-04-01T05:53:28.858395Z",
     "shell.execute_reply.started": "2022-04-01T05:50:32.079096Z"
    },
    "papermill": {
     "duration": 0.032469,
     "end_time": "2022-04-01T05:53:28.858570",
     "exception": false,
     "start_time": "2022-04-01T05:53:28.826101",
     "status": "completed"
    },
    "tags": []
   },
   "outputs": [
    {
     "data": {
      "text/plain": [
       "array(['Olivia Rodrigo', 'Lil Nas X', 'The Kid LAROI', 'Dua Lipa',\n",
       "       'Justin Bieber', 'Doja Cat', 'The Weeknd', 'Glass Animals',\n",
       "       'Måneskin', 'Masked Wolf', 'Bad Bunny', 'Ed Sheeran', 'BTS',\n",
       "       'Bruno Mars', 'Rauw Alejandro', '24kGoldn', 'Tiësto',\n",
       "       'Harry Styles', 'Riton', 'Kali Uchis', 'Giveon', 'Farruko',\n",
       "       'Ariana Grande', 'Lewis Capaldi', 'Myke Towers', 'Polo G',\n",
       "       'The Neighbourhood', 'Los Legendarios', 'Internet Money',\n",
       "       'Duncan Laurence', 'SZA', 'J Balvin', 'Joel Corry', 'Tate McRae',\n",
       "       'Sebastian Yatra'], dtype=object)"
      ]
     },
     "execution_count": 9,
     "metadata": {},
     "output_type": "execute_result"
    }
   ],
   "source": [
    "df.artist_name.unique()"
   ]
  },
  {
   "cell_type": "code",
   "execution_count": 10,
   "id": "c465d98e",
   "metadata": {
    "execution": {
     "iopub.execute_input": "2022-04-01T05:53:28.910210Z",
     "iopub.status.busy": "2022-04-01T05:53:28.909443Z",
     "iopub.status.idle": "2022-04-01T05:53:28.915466Z",
     "shell.execute_reply": "2022-04-01T05:53:28.916025Z",
     "shell.execute_reply.started": "2022-04-01T05:50:33.153179Z"
    },
    "papermill": {
     "duration": 0.036247,
     "end_time": "2022-04-01T05:53:28.916232",
     "exception": false,
     "start_time": "2022-04-01T05:53:28.879985",
     "status": "completed"
    },
    "tags": []
   },
   "outputs": [],
   "source": [
    "Justin_Bieber = df[df['artist_name']=='Justin Bieber']\n",
    "pop_1 = Justin_Bieber['popularity'].mean()\n",
    "\n",
    "Dua_Lipa = df[df['artist_name']=='Dua Lipa']\n",
    "pop_2 = Dua_Lipa['popularity'].mean()\n",
    "\n",
    "Ed_Sheeran = df[df['artist_name']=='Ed Sheeran']\n",
    "pop_3 = Ed_Sheeran['popularity'].mean()\n",
    "\n",
    "Harry_styles = df[df['artist_name']=='Harry Styles']\n",
    "pop_4 = Harry_styles['popularity'].mean()\n",
    "\n",
    "Ariana_Grande = df[df['artist_name']=='Ariana Grande']\n",
    "pop_5 = Ariana_Grande['popularity'].mean()\n",
    "\n",
    "artist_names = ['Justin Bieber', 'Dua Lipa','Ed Sheeran','Harry Styles','Ariana Grande']\n",
    "pop_value= [pop_1,pop_2,pop_3,pop_4,pop_5]\n"
   ]
  },
  {
   "cell_type": "markdown",
   "id": "6af9760c",
   "metadata": {
    "papermill": {
     "duration": 0.021425,
     "end_time": "2022-04-01T05:53:28.960365",
     "exception": false,
     "start_time": "2022-04-01T05:53:28.938940",
     "status": "completed"
    },
    "tags": []
   },
   "source": [
    "**3. Barplot**"
   ]
  },
  {
   "cell_type": "code",
   "execution_count": 11,
   "id": "6116a8eb",
   "metadata": {
    "execution": {
     "iopub.execute_input": "2022-04-01T05:53:29.008825Z",
     "iopub.status.busy": "2022-04-01T05:53:29.008139Z",
     "iopub.status.idle": "2022-04-01T05:53:29.211901Z",
     "shell.execute_reply": "2022-04-01T05:53:29.211287Z",
     "shell.execute_reply.started": "2022-04-01T05:50:36.543934Z"
    },
    "papermill": {
     "duration": 0.2296,
     "end_time": "2022-04-01T05:53:29.212065",
     "exception": false,
     "start_time": "2022-04-01T05:53:28.982465",
     "status": "completed"
    },
    "tags": []
   },
   "outputs": [
    {
     "data": {
      "image/png": "[encoded data removed]",
      "text/plain": [
       "<Figure size 720x432 with 1 Axes>"
      ]
     },
     "metadata": {
      "needs_background": "light"
     },
     "output_type": "display_data"
    }
   ],
   "source": [
    "\n",
    "plt.figure(figsize=[10,6])\n",
    "\n",
    "sns.barplot(x=artist_names, y=pop_value, palette=(\"gnuplot2\")).set(title=\"Who is more Popular?\")\n",
    "sns.set_context(\"poster\")"
   ]
  }
 ],
 "metadata": {
  "kernelspec": {
   "display_name": "Python 3",
   "language": "python",
   "name": "python3"
  },
  "language_info": {
   "codemirror_mode": {
    "name": "ipython",
    "version": 3
   },
   "file_extension": ".py",
   "mimetype": "text/x-python",
   "name": "python",
   "nbconvert_exporter": "python",
   "pygments_lexer": "ipython3",
   "version": "3.7.12"
  },
  "papermill": {
   "default_parameters": {},
   "duration": 14.514679,
   "end_time": "2022-04-01T05:53:29.946434",
   "environment_variables": {},
   "exception": null,
   "input_path": "__notebook__.ipynb",
   "output_path": "__notebook__.ipynb",
   "parameters": {},
   "start_time": "2022-04-01T05:53:15.431755",
   "version": "2.3.3"
  }
 },
 "nbformat": 4,
 "nbformat_minor": 5
}
