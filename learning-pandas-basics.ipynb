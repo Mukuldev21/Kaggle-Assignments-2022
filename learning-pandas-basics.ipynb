{
 "cells": [
  {
   "cell_type": "markdown",
   "id": "e2082859",
   "metadata": {
    "papermill": {
     "duration": 0.025625,
     "end_time": "2022-03-31T15:36:20.688360",
     "exception": false,
     "start_time": "2022-03-31T15:36:20.662735",
     "status": "completed"
    },
    "tags": []
   },
   "source": [
    "# Learning Pandas Basics"
   ]
  },
  {
   "cell_type": "markdown",
   "id": "6ed12610",
   "metadata": {
    "papermill": {
     "duration": 0.023971,
     "end_time": "2022-03-31T15:36:20.741079",
     "exception": false,
     "start_time": "2022-03-31T15:36:20.717108",
     "status": "completed"
    },
    "tags": []
   },
   "source": [
    "***Importing the necessary libraries***"
   ]
  },
  {
   "cell_type": "code",
   "execution_count": 1,
   "id": "11d2759b",
   "metadata": {
    "execution": {
     "iopub.execute_input": "2022-03-31T15:36:20.798414Z",
     "iopub.status.busy": "2022-03-31T15:36:20.797341Z",
     "iopub.status.idle": "2022-03-31T15:36:20.800335Z",
     "shell.execute_reply": "2022-03-31T15:36:20.800952Z",
     "shell.execute_reply.started": "2022-03-31T14:51:39.436125Z"
    },
    "papermill": {
     "duration": 0.036634,
     "end_time": "2022-03-31T15:36:20.801260",
     "exception": false,
     "start_time": "2022-03-31T15:36:20.764626",
     "status": "completed"
    },
    "tags": []
   },
   "outputs": [],
   "source": [
    "import numpy as np\n",
    "import pandas as pd"
   ]
  },
  {
   "cell_type": "markdown",
   "id": "dcd980a8",
   "metadata": {
    "papermill": {
     "duration": 0.022923,
     "end_time": "2022-03-31T15:36:20.847460",
     "exception": false,
     "start_time": "2022-03-31T15:36:20.824537",
     "status": "completed"
    },
    "tags": []
   },
   "source": [
    "***Importing the dataset into the dataframe***"
   ]
  },
  {
   "cell_type": "code",
   "execution_count": 2,
   "id": "522c56f0",
   "metadata": {
    "execution": {
     "iopub.execute_input": "2022-03-31T15:36:20.897198Z",
     "iopub.status.busy": "2022-03-31T15:36:20.896490Z",
     "iopub.status.idle": "2022-03-31T15:36:20.913312Z",
     "shell.execute_reply": "2022-03-31T15:36:20.913904Z",
     "shell.execute_reply.started": "2022-03-31T14:51:51.724409Z"
    },
    "papermill": {
     "duration": 0.043619,
     "end_time": "2022-03-31T15:36:20.914102",
     "exception": false,
     "start_time": "2022-03-31T15:36:20.870483",
     "status": "completed"
    },
    "tags": []
   },
   "outputs": [],
   "source": [
    "filepath = \"../input/retail-data-customer-summary-learn-pandas-basics/1_Sales.csv\"\n",
    "df = pd.read_csv(filepath)"
   ]
  },
  {
   "cell_type": "code",
   "execution_count": 3,
   "id": "3d24f8c5",
   "metadata": {
    "execution": {
     "iopub.execute_input": "2022-03-31T15:36:20.964892Z",
     "iopub.status.busy": "2022-03-31T15:36:20.964198Z",
     "iopub.status.idle": "2022-03-31T15:36:20.985234Z",
     "shell.execute_reply": "2022-03-31T15:36:20.985763Z",
     "shell.execute_reply.started": "2022-03-31T14:51:55.943250Z"
    },
    "papermill": {
     "duration": 0.048045,
     "end_time": "2022-03-31T15:36:20.985939",
     "exception": false,
     "start_time": "2022-03-31T15:36:20.937894",
     "status": "completed"
    },
    "tags": []
   },
   "outputs": [
    {
     "data": {
      "text/html": [
       "<div>\n",
       "<style scoped>\n",
       "    .dataframe tbody tr th:only-of-type {\n",
       "        vertical-align: middle;\n",
       "    }\n",
       "\n",
       "    .dataframe tbody tr th {\n",
       "        vertical-align: top;\n",
       "    }\n",
       "\n",
       "    .dataframe thead th {\n",
       "        text-align: right;\n",
       "    }\n",
       "</style>\n",
       "<table border=\"1\" class=\"dataframe\">\n",
       "  <thead>\n",
       "    <tr style=\"text-align: right;\">\n",
       "      <th></th>\n",
       "      <th>SalesRep</th>\n",
       "      <th>Region</th>\n",
       "      <th>Month</th>\n",
       "      <th>Sales</th>\n",
       "      <th>Units Sold</th>\n",
       "    </tr>\n",
       "  </thead>\n",
       "  <tbody>\n",
       "    <tr>\n",
       "      <th>0</th>\n",
       "      <td>Amy</td>\n",
       "      <td>North</td>\n",
       "      <td>Jan</td>\n",
       "      <td>23040.0</td>\n",
       "      <td>239.0</td>\n",
       "    </tr>\n",
       "    <tr>\n",
       "      <th>1</th>\n",
       "      <td>Amy</td>\n",
       "      <td>North</td>\n",
       "      <td>Feb</td>\n",
       "      <td>24131.0</td>\n",
       "      <td>79.0</td>\n",
       "    </tr>\n",
       "    <tr>\n",
       "      <th>2</th>\n",
       "      <td>Amy</td>\n",
       "      <td>North</td>\n",
       "      <td>Mar</td>\n",
       "      <td>24646.0</td>\n",
       "      <td>71.0</td>\n",
       "    </tr>\n",
       "    <tr>\n",
       "      <th>3</th>\n",
       "      <td>Amy</td>\n",
       "      <td>North</td>\n",
       "      <td>Apr</td>\n",
       "      <td>22047.0</td>\n",
       "      <td>71.0</td>\n",
       "    </tr>\n",
       "    <tr>\n",
       "      <th>4</th>\n",
       "      <td>Amy</td>\n",
       "      <td>North</td>\n",
       "      <td>May</td>\n",
       "      <td>24971.0</td>\n",
       "      <td>NaN</td>\n",
       "    </tr>\n",
       "  </tbody>\n",
       "</table>\n",
       "</div>"
      ],
      "text/plain": [
       "  SalesRep Region Month    Sales  Units Sold\n",
       "0      Amy  North   Jan  23040.0       239.0\n",
       "1      Amy  North   Feb  24131.0        79.0\n",
       "2      Amy  North   Mar  24646.0        71.0\n",
       "3      Amy  North   Apr  22047.0        71.0\n",
       "4      Amy  North   May  24971.0         NaN"
      ]
     },
     "execution_count": 3,
     "metadata": {},
     "output_type": "execute_result"
    }
   ],
   "source": [
    "df.head()"
   ]
  },
  {
   "cell_type": "code",
   "execution_count": 4,
   "id": "17596415",
   "metadata": {
    "execution": {
     "iopub.execute_input": "2022-03-31T15:36:21.037958Z",
     "iopub.status.busy": "2022-03-31T15:36:21.037257Z",
     "iopub.status.idle": "2022-03-31T15:36:21.062858Z",
     "shell.execute_reply": "2022-03-31T15:36:21.063363Z",
     "shell.execute_reply.started": "2022-03-31T14:52:48.515038Z"
    },
    "papermill": {
     "duration": 0.053575,
     "end_time": "2022-03-31T15:36:21.063554",
     "exception": false,
     "start_time": "2022-03-31T15:36:21.009979",
     "status": "completed"
    },
    "tags": []
   },
   "outputs": [
    {
     "name": "stdout",
     "output_type": "stream",
     "text": [
      "<class 'pandas.core.frame.DataFrame'>\n",
      "RangeIndex: 48 entries, 0 to 47\n",
      "Data columns (total 5 columns):\n",
      " #   Column      Non-Null Count  Dtype  \n",
      "---  ------      --------------  -----  \n",
      " 0   SalesRep    48 non-null     object \n",
      " 1   Region      48 non-null     object \n",
      " 2   Month       48 non-null     object \n",
      " 3   Sales       47 non-null     float64\n",
      " 4   Units Sold  47 non-null     float64\n",
      "dtypes: float64(2), object(3)\n",
      "memory usage: 2.0+ KB\n"
     ]
    }
   ],
   "source": [
    "df.info()"
   ]
  },
  {
   "cell_type": "code",
   "execution_count": 5,
   "id": "157ed74d",
   "metadata": {
    "execution": {
     "iopub.execute_input": "2022-03-31T15:36:21.121168Z",
     "iopub.status.busy": "2022-03-31T15:36:21.120438Z",
     "iopub.status.idle": "2022-03-31T15:36:21.134446Z",
     "shell.execute_reply": "2022-03-31T15:36:21.134967Z",
     "shell.execute_reply.started": "2022-03-31T14:52:52.177279Z"
    },
    "papermill": {
     "duration": 0.046973,
     "end_time": "2022-03-31T15:36:21.135141",
     "exception": false,
     "start_time": "2022-03-31T15:36:21.088168",
     "status": "completed"
    },
    "tags": []
   },
   "outputs": [
    {
     "data": {
      "text/html": [
       "<div>\n",
       "<style scoped>\n",
       "    .dataframe tbody tr th:only-of-type {\n",
       "        vertical-align: middle;\n",
       "    }\n",
       "\n",
       "    .dataframe tbody tr th {\n",
       "        vertical-align: top;\n",
       "    }\n",
       "\n",
       "    .dataframe thead th {\n",
       "        text-align: right;\n",
       "    }\n",
       "</style>\n",
       "<table border=\"1\" class=\"dataframe\">\n",
       "  <thead>\n",
       "    <tr style=\"text-align: right;\">\n",
       "      <th></th>\n",
       "      <th>Sales</th>\n",
       "      <th>Units Sold</th>\n",
       "    </tr>\n",
       "  </thead>\n",
       "  <tbody>\n",
       "    <tr>\n",
       "      <th>count</th>\n",
       "      <td>47.000000</td>\n",
       "      <td>47.000000</td>\n",
       "    </tr>\n",
       "    <tr>\n",
       "      <th>mean</th>\n",
       "      <td>24209.425532</td>\n",
       "      <td>206.617021</td>\n",
       "    </tr>\n",
       "    <tr>\n",
       "      <th>std</th>\n",
       "      <td>2671.207948</td>\n",
       "      <td>204.332269</td>\n",
       "    </tr>\n",
       "    <tr>\n",
       "      <th>min</th>\n",
       "      <td>19625.000000</td>\n",
       "      <td>68.000000</td>\n",
       "    </tr>\n",
       "    <tr>\n",
       "      <th>25%</th>\n",
       "      <td>22348.500000</td>\n",
       "      <td>86.500000</td>\n",
       "    </tr>\n",
       "    <tr>\n",
       "      <th>50%</th>\n",
       "      <td>24218.000000</td>\n",
       "      <td>114.000000</td>\n",
       "    </tr>\n",
       "    <tr>\n",
       "      <th>75%</th>\n",
       "      <td>25742.000000</td>\n",
       "      <td>227.000000</td>\n",
       "    </tr>\n",
       "    <tr>\n",
       "      <th>max</th>\n",
       "      <td>29953.000000</td>\n",
       "      <td>852.000000</td>\n",
       "    </tr>\n",
       "  </tbody>\n",
       "</table>\n",
       "</div>"
      ],
      "text/plain": [
       "              Sales  Units Sold\n",
       "count     47.000000   47.000000\n",
       "mean   24209.425532  206.617021\n",
       "std     2671.207948  204.332269\n",
       "min    19625.000000   68.000000\n",
       "25%    22348.500000   86.500000\n",
       "50%    24218.000000  114.000000\n",
       "75%    25742.000000  227.000000\n",
       "max    29953.000000  852.000000"
      ]
     },
     "execution_count": 5,
     "metadata": {},
     "output_type": "execute_result"
    }
   ],
   "source": [
    "df.describe()"
   ]
  },
  {
   "cell_type": "markdown",
   "id": "8309f585",
   "metadata": {
    "papermill": {
     "duration": 0.024273,
     "end_time": "2022-03-31T15:36:21.184674",
     "exception": false,
     "start_time": "2022-03-31T15:36:21.160401",
     "status": "completed"
    },
    "tags": []
   },
   "source": [
    "***Checking for Null values***"
   ]
  },
  {
   "cell_type": "code",
   "execution_count": 6,
   "id": "b9ed40af",
   "metadata": {
    "execution": {
     "iopub.execute_input": "2022-03-31T15:36:21.240061Z",
     "iopub.status.busy": "2022-03-31T15:36:21.239364Z",
     "iopub.status.idle": "2022-03-31T15:36:21.246394Z",
     "shell.execute_reply": "2022-03-31T15:36:21.247042Z"
    },
    "papermill": {
     "duration": 0.035965,
     "end_time": "2022-03-31T15:36:21.247212",
     "exception": false,
     "start_time": "2022-03-31T15:36:21.211247",
     "status": "completed"
    },
    "tags": []
   },
   "outputs": [
    {
     "data": {
      "text/plain": [
       "SalesRep      0\n",
       "Region        0\n",
       "Month         0\n",
       "Sales         1\n",
       "Units Sold    1\n",
       "dtype: int64"
      ]
     },
     "execution_count": 6,
     "metadata": {},
     "output_type": "execute_result"
    }
   ],
   "source": [
    "df.isnull().sum()"
   ]
  },
  {
   "cell_type": "markdown",
   "id": "0d295ade",
   "metadata": {
    "papermill": {
     "duration": 0.024796,
     "end_time": "2022-03-31T15:36:21.297407",
     "exception": false,
     "start_time": "2022-03-31T15:36:21.272611",
     "status": "completed"
    },
    "tags": []
   },
   "source": [
    "***Replacing the null values with the mean values.***"
   ]
  },
  {
   "cell_type": "code",
   "execution_count": 7,
   "id": "718b842c",
   "metadata": {
    "execution": {
     "iopub.execute_input": "2022-03-31T15:36:21.351997Z",
     "iopub.status.busy": "2022-03-31T15:36:21.351279Z",
     "iopub.status.idle": "2022-03-31T15:36:21.357945Z",
     "shell.execute_reply": "2022-03-31T15:36:21.358503Z",
     "shell.execute_reply.started": "2022-03-31T14:54:25.030288Z"
    },
    "papermill": {
     "duration": 0.035998,
     "end_time": "2022-03-31T15:36:21.358691",
     "exception": false,
     "start_time": "2022-03-31T15:36:21.322693",
     "status": "completed"
    },
    "tags": []
   },
   "outputs": [
    {
     "name": "stdout",
     "output_type": "stream",
     "text": [
      "DataFrame updated by filling null values\n"
     ]
    }
   ],
   "source": [
    "sales_mean = df.Sales.mean()\n",
    "Units_sold_mean = df[\"Units Sold\"].mean()\n",
    "\n",
    "df['Sales'].fillna(value = sales_mean, inplace = True)\n",
    "df['Units Sold'].fillna(value = Units_sold_mean, inplace = True)\n",
    "\n",
    "print(\"DataFrame updated by filling null values\")"
   ]
  },
  {
   "cell_type": "markdown",
   "id": "db225425",
   "metadata": {
    "papermill": {
     "duration": 0.025138,
     "end_time": "2022-03-31T15:36:21.409376",
     "exception": false,
     "start_time": "2022-03-31T15:36:21.384238",
     "status": "completed"
    },
    "tags": []
   },
   "source": [
    "***Updated DataFrame***"
   ]
  },
  {
   "cell_type": "code",
   "execution_count": 8,
   "id": "428a1816",
   "metadata": {
    "execution": {
     "iopub.execute_input": "2022-03-31T15:36:21.473506Z",
     "iopub.status.busy": "2022-03-31T15:36:21.472789Z",
     "iopub.status.idle": "2022-03-31T15:36:21.477143Z",
     "shell.execute_reply": "2022-03-31T15:36:21.476442Z",
     "shell.execute_reply.started": "2022-03-31T14:55:02.130471Z"
    },
    "papermill": {
     "duration": 0.042378,
     "end_time": "2022-03-31T15:36:21.477292",
     "exception": false,
     "start_time": "2022-03-31T15:36:21.434914",
     "status": "completed"
    },
    "tags": []
   },
   "outputs": [
    {
     "data": {
      "text/html": [
       "<div>\n",
       "<style scoped>\n",
       "    .dataframe tbody tr th:only-of-type {\n",
       "        vertical-align: middle;\n",
       "    }\n",
       "\n",
       "    .dataframe tbody tr th {\n",
       "        vertical-align: top;\n",
       "    }\n",
       "\n",
       "    .dataframe thead th {\n",
       "        text-align: right;\n",
       "    }\n",
       "</style>\n",
       "<table border=\"1\" class=\"dataframe\">\n",
       "  <thead>\n",
       "    <tr style=\"text-align: right;\">\n",
       "      <th></th>\n",
       "      <th>SalesRep</th>\n",
       "      <th>Region</th>\n",
       "      <th>Month</th>\n",
       "      <th>Sales</th>\n",
       "      <th>Units Sold</th>\n",
       "    </tr>\n",
       "  </thead>\n",
       "  <tbody>\n",
       "    <tr>\n",
       "      <th>0</th>\n",
       "      <td>Amy</td>\n",
       "      <td>North</td>\n",
       "      <td>Jan</td>\n",
       "      <td>23040.0</td>\n",
       "      <td>239.000000</td>\n",
       "    </tr>\n",
       "    <tr>\n",
       "      <th>1</th>\n",
       "      <td>Amy</td>\n",
       "      <td>North</td>\n",
       "      <td>Feb</td>\n",
       "      <td>24131.0</td>\n",
       "      <td>79.000000</td>\n",
       "    </tr>\n",
       "    <tr>\n",
       "      <th>2</th>\n",
       "      <td>Amy</td>\n",
       "      <td>North</td>\n",
       "      <td>Mar</td>\n",
       "      <td>24646.0</td>\n",
       "      <td>71.000000</td>\n",
       "    </tr>\n",
       "    <tr>\n",
       "      <th>3</th>\n",
       "      <td>Amy</td>\n",
       "      <td>North</td>\n",
       "      <td>Apr</td>\n",
       "      <td>22047.0</td>\n",
       "      <td>71.000000</td>\n",
       "    </tr>\n",
       "    <tr>\n",
       "      <th>4</th>\n",
       "      <td>Amy</td>\n",
       "      <td>North</td>\n",
       "      <td>May</td>\n",
       "      <td>24971.0</td>\n",
       "      <td>206.617021</td>\n",
       "    </tr>\n",
       "  </tbody>\n",
       "</table>\n",
       "</div>"
      ],
      "text/plain": [
       "  SalesRep Region Month    Sales  Units Sold\n",
       "0      Amy  North   Jan  23040.0  239.000000\n",
       "1      Amy  North   Feb  24131.0   79.000000\n",
       "2      Amy  North   Mar  24646.0   71.000000\n",
       "3      Amy  North   Apr  22047.0   71.000000\n",
       "4      Amy  North   May  24971.0  206.617021"
      ]
     },
     "execution_count": 8,
     "metadata": {},
     "output_type": "execute_result"
    }
   ],
   "source": [
    "df.head()"
   ]
  },
  {
   "cell_type": "markdown",
   "id": "2b0fff2e",
   "metadata": {
    "papermill": {
     "duration": 0.025998,
     "end_time": "2022-03-31T15:36:21.529844",
     "exception": false,
     "start_time": "2022-03-31T15:36:21.503846",
     "status": "completed"
    },
    "tags": []
   },
   "source": [
    "***On comparing from the previous dataframe we can easily see that the NaN value is being filled by the mean value.***"
   ]
  },
  {
   "cell_type": "markdown",
   "id": "9b2b6fe9",
   "metadata": {
    "papermill": {
     "duration": 0.025801,
     "end_time": "2022-03-31T15:36:21.581796",
     "exception": false,
     "start_time": "2022-03-31T15:36:21.555995",
     "status": "completed"
    },
    "tags": []
   },
   "source": [
    "***Importing new dataset***"
   ]
  },
  {
   "cell_type": "code",
   "execution_count": 9,
   "id": "bcf357da",
   "metadata": {
    "execution": {
     "iopub.execute_input": "2022-03-31T15:36:21.639146Z",
     "iopub.status.busy": "2022-03-31T15:36:21.638329Z",
     "iopub.status.idle": "2022-03-31T15:36:21.685649Z",
     "shell.execute_reply": "2022-03-31T15:36:21.686219Z",
     "shell.execute_reply.started": "2022-03-31T15:18:51.596218Z"
    },
    "papermill": {
     "duration": 0.078513,
     "end_time": "2022-03-31T15:36:21.686411",
     "exception": false,
     "start_time": "2022-03-31T15:36:21.607898",
     "status": "completed"
    },
    "tags": []
   },
   "outputs": [
    {
     "data": {
      "text/html": [
       "<div>\n",
       "<style scoped>\n",
       "    .dataframe tbody tr th:only-of-type {\n",
       "        vertical-align: middle;\n",
       "    }\n",
       "\n",
       "    .dataframe tbody tr th {\n",
       "        vertical-align: top;\n",
       "    }\n",
       "\n",
       "    .dataframe thead th {\n",
       "        text-align: right;\n",
       "    }\n",
       "</style>\n",
       "<table border=\"1\" class=\"dataframe\">\n",
       "  <thead>\n",
       "    <tr style=\"text-align: right;\">\n",
       "      <th></th>\n",
       "      <th>customer_id</th>\n",
       "      <th>tran_amount_2011</th>\n",
       "      <th>tran_amount_2012</th>\n",
       "      <th>tran_amount_2013</th>\n",
       "      <th>tran_amount_2014</th>\n",
       "      <th>tran_amount_2015</th>\n",
       "      <th>transactions_2011</th>\n",
       "      <th>transactions_2012</th>\n",
       "      <th>transactions_2013</th>\n",
       "      <th>transactions_2014</th>\n",
       "      <th>transactions_2015</th>\n",
       "      <th>First_Transaction</th>\n",
       "      <th>Latest_Transaction</th>\n",
       "    </tr>\n",
       "  </thead>\n",
       "  <tbody>\n",
       "    <tr>\n",
       "      <th>0</th>\n",
       "      <td>CS2945</td>\n",
       "      <td>153.0</td>\n",
       "      <td>516.0</td>\n",
       "      <td>173.0</td>\n",
       "      <td>1029.0</td>\n",
       "      <td>40.0</td>\n",
       "      <td>2.0</td>\n",
       "      <td>7.0</td>\n",
       "      <td>3.0</td>\n",
       "      <td>13.0</td>\n",
       "      <td>1.0</td>\n",
       "      <td>18-May-11</td>\n",
       "      <td>08-Mar-15</td>\n",
       "    </tr>\n",
       "    <tr>\n",
       "      <th>1</th>\n",
       "      <td>CS4074</td>\n",
       "      <td>269.0</td>\n",
       "      <td>429.0</td>\n",
       "      <td>737.0</td>\n",
       "      <td>1027.0</td>\n",
       "      <td>NaN</td>\n",
       "      <td>3.0</td>\n",
       "      <td>6.0</td>\n",
       "      <td>10.0</td>\n",
       "      <td>15.0</td>\n",
       "      <td>NaN</td>\n",
       "      <td>29-May-11</td>\n",
       "      <td>05-Dec-14</td>\n",
       "    </tr>\n",
       "    <tr>\n",
       "      <th>2</th>\n",
       "      <td>CS4798</td>\n",
       "      <td>153.0</td>\n",
       "      <td>536.0</td>\n",
       "      <td>414.0</td>\n",
       "      <td>1001.0</td>\n",
       "      <td>47.0</td>\n",
       "      <td>2.0</td>\n",
       "      <td>7.0</td>\n",
       "      <td>6.0</td>\n",
       "      <td>11.0</td>\n",
       "      <td>1.0</td>\n",
       "      <td>01-Jul-11</td>\n",
       "      <td>21-Feb-15</td>\n",
       "    </tr>\n",
       "    <tr>\n",
       "      <th>3</th>\n",
       "      <td>CS4424</td>\n",
       "      <td>547.0</td>\n",
       "      <td>380.0</td>\n",
       "      <td>921.0</td>\n",
       "      <td>984.0</td>\n",
       "      <td>101.0</td>\n",
       "      <td>7.0</td>\n",
       "      <td>5.0</td>\n",
       "      <td>13.0</td>\n",
       "      <td>13.0</td>\n",
       "      <td>1.0</td>\n",
       "      <td>25-May-11</td>\n",
       "      <td>19-Jan-15</td>\n",
       "    </tr>\n",
       "    <tr>\n",
       "      <th>4</th>\n",
       "      <td>CS5057</td>\n",
       "      <td>290.0</td>\n",
       "      <td>235.0</td>\n",
       "      <td>509.0</td>\n",
       "      <td>974.0</td>\n",
       "      <td>NaN</td>\n",
       "      <td>4.0</td>\n",
       "      <td>4.0</td>\n",
       "      <td>6.0</td>\n",
       "      <td>12.0</td>\n",
       "      <td>NaN</td>\n",
       "      <td>10-Jul-11</td>\n",
       "      <td>02-Dec-14</td>\n",
       "    </tr>\n",
       "  </tbody>\n",
       "</table>\n",
       "</div>"
      ],
      "text/plain": [
       "  customer_id  tran_amount_2011  tran_amount_2012  tran_amount_2013  \\\n",
       "0      CS2945             153.0             516.0             173.0   \n",
       "1      CS4074             269.0             429.0             737.0   \n",
       "2      CS4798             153.0             536.0             414.0   \n",
       "3      CS4424             547.0             380.0             921.0   \n",
       "4      CS5057             290.0             235.0             509.0   \n",
       "\n",
       "   tran_amount_2014  tran_amount_2015  transactions_2011  transactions_2012  \\\n",
       "0            1029.0              40.0                2.0                7.0   \n",
       "1            1027.0               NaN                3.0                6.0   \n",
       "2            1001.0              47.0                2.0                7.0   \n",
       "3             984.0             101.0                7.0                5.0   \n",
       "4             974.0               NaN                4.0                4.0   \n",
       "\n",
       "   transactions_2013  transactions_2014  transactions_2015 First_Transaction  \\\n",
       "0                3.0               13.0                1.0         18-May-11   \n",
       "1               10.0               15.0                NaN         29-May-11   \n",
       "2                6.0               11.0                1.0         01-Jul-11   \n",
       "3               13.0               13.0                1.0         25-May-11   \n",
       "4                6.0               12.0                NaN         10-Jul-11   \n",
       "\n",
       "  Latest_Transaction  \n",
       "0          08-Mar-15  \n",
       "1          05-Dec-14  \n",
       "2          21-Feb-15  \n",
       "3          19-Jan-15  \n",
       "4          02-Dec-14  "
      ]
     },
     "execution_count": 9,
     "metadata": {},
     "output_type": "execute_result"
    }
   ],
   "source": [
    "Retail_data = pd.read_csv(\"../input/retail-data-customer-summary-learn-pandas-basics/Retail_Data_Customers_Summary.csv\")\n",
    "Retail_data.head()"
   ]
  },
  {
   "cell_type": "code",
   "execution_count": 10,
   "id": "43d031f3",
   "metadata": {
    "execution": {
     "iopub.execute_input": "2022-03-31T15:36:21.745785Z",
     "iopub.status.busy": "2022-03-31T15:36:21.745111Z",
     "iopub.status.idle": "2022-03-31T15:36:21.747777Z",
     "shell.execute_reply": "2022-03-31T15:36:21.748269Z",
     "shell.execute_reply.started": "2022-03-31T15:20:21.734926Z"
    },
    "papermill": {
     "duration": 0.03492,
     "end_time": "2022-03-31T15:36:21.748434",
     "exception": false,
     "start_time": "2022-03-31T15:36:21.713514",
     "status": "completed"
    },
    "tags": []
   },
   "outputs": [
    {
     "name": "stdout",
     "output_type": "stream",
     "text": [
      "(6889, 13)\n",
      "89557\n"
     ]
    }
   ],
   "source": [
    "print(Retail_data.shape)\n",
    "print(Retail_data.size)"
   ]
  },
  {
   "cell_type": "markdown",
   "id": "e4592843",
   "metadata": {
    "papermill": {
     "duration": 0.027095,
     "end_time": "2022-03-31T15:36:21.802593",
     "exception": false,
     "start_time": "2022-03-31T15:36:21.775498",
     "status": "completed"
    },
    "tags": []
   },
   "source": [
    "***Checking for Null values***"
   ]
  },
  {
   "cell_type": "code",
   "execution_count": 11,
   "id": "f48b9815",
   "metadata": {
    "execution": {
     "iopub.execute_input": "2022-03-31T15:36:21.865192Z",
     "iopub.status.busy": "2022-03-31T15:36:21.864457Z",
     "iopub.status.idle": "2022-03-31T15:36:21.870827Z",
     "shell.execute_reply": "2022-03-31T15:36:21.871331Z",
     "shell.execute_reply.started": "2022-03-31T15:22:37.941370Z"
    },
    "papermill": {
     "duration": 0.041565,
     "end_time": "2022-03-31T15:36:21.871516",
     "exception": false,
     "start_time": "2022-03-31T15:36:21.829951",
     "status": "completed"
    },
    "tags": []
   },
   "outputs": [
    {
     "data": {
      "text/plain": [
       "customer_id              0\n",
       "tran_amount_2011       388\n",
       "tran_amount_2012        80\n",
       "tran_amount_2013        85\n",
       "tran_amount_2014        88\n",
       "tran_amount_2015      2664\n",
       "transactions_2011      388\n",
       "transactions_2012       80\n",
       "transactions_2013       85\n",
       "transactions_2014       88\n",
       "transactions_2015     2664\n",
       "First_Transaction        0\n",
       "Latest_Transaction       0\n",
       "dtype: int64"
      ]
     },
     "execution_count": 11,
     "metadata": {},
     "output_type": "execute_result"
    }
   ],
   "source": [
    "Retail_data.isnull().sum()"
   ]
  },
  {
   "cell_type": "markdown",
   "id": "61108dee",
   "metadata": {
    "papermill": {
     "duration": 0.028556,
     "end_time": "2022-03-31T15:36:21.927849",
     "exception": false,
     "start_time": "2022-03-31T15:36:21.899293",
     "status": "completed"
    },
    "tags": []
   },
   "source": [
    "***Here we can see the number of null values present in different columns.We can replace the null values with 0.***"
   ]
  },
  {
   "cell_type": "code",
   "execution_count": 12,
   "id": "792aeefb",
   "metadata": {
    "execution": {
     "iopub.execute_input": "2022-03-31T15:36:21.986786Z",
     "iopub.status.busy": "2022-03-31T15:36:21.986121Z",
     "iopub.status.idle": "2022-03-31T15:36:21.993198Z",
     "shell.execute_reply": "2022-03-31T15:36:21.993706Z",
     "shell.execute_reply.started": "2022-03-31T15:26:26.349593Z"
    },
    "papermill": {
     "duration": 0.038235,
     "end_time": "2022-03-31T15:36:21.993896",
     "exception": false,
     "start_time": "2022-03-31T15:36:21.955661",
     "status": "completed"
    },
    "tags": []
   },
   "outputs": [],
   "source": [
    "Retail_data.fillna(value=0,inplace = True)"
   ]
  },
  {
   "cell_type": "markdown",
   "id": "a3e6c5e0",
   "metadata": {
    "papermill": {
     "duration": 0.027952,
     "end_time": "2022-03-31T15:36:22.050844",
     "exception": false,
     "start_time": "2022-03-31T15:36:22.022892",
     "status": "completed"
    },
    "tags": []
   },
   "source": [
    "***Updated dataframe***"
   ]
  },
  {
   "cell_type": "code",
   "execution_count": 13,
   "id": "64b1a336",
   "metadata": {
    "execution": {
     "iopub.execute_input": "2022-03-31T15:36:22.110099Z",
     "iopub.status.busy": "2022-03-31T15:36:22.109375Z",
     "iopub.status.idle": "2022-03-31T15:36:22.131828Z",
     "shell.execute_reply": "2022-03-31T15:36:22.131208Z",
     "shell.execute_reply.started": "2022-03-31T15:28:22.339446Z"
    },
    "papermill": {
     "duration": 0.05316,
     "end_time": "2022-03-31T15:36:22.132021",
     "exception": false,
     "start_time": "2022-03-31T15:36:22.078861",
     "status": "completed"
    },
    "tags": []
   },
   "outputs": [
    {
     "data": {
      "text/html": [
       "<div>\n",
       "<style scoped>\n",
       "    .dataframe tbody tr th:only-of-type {\n",
       "        vertical-align: middle;\n",
       "    }\n",
       "\n",
       "    .dataframe tbody tr th {\n",
       "        vertical-align: top;\n",
       "    }\n",
       "\n",
       "    .dataframe thead th {\n",
       "        text-align: right;\n",
       "    }\n",
       "</style>\n",
       "<table border=\"1\" class=\"dataframe\">\n",
       "  <thead>\n",
       "    <tr style=\"text-align: right;\">\n",
       "      <th></th>\n",
       "      <th>customer_id</th>\n",
       "      <th>tran_amount_2011</th>\n",
       "      <th>tran_amount_2012</th>\n",
       "      <th>tran_amount_2013</th>\n",
       "      <th>tran_amount_2014</th>\n",
       "      <th>tran_amount_2015</th>\n",
       "      <th>transactions_2011</th>\n",
       "      <th>transactions_2012</th>\n",
       "      <th>transactions_2013</th>\n",
       "      <th>transactions_2014</th>\n",
       "      <th>transactions_2015</th>\n",
       "      <th>First_Transaction</th>\n",
       "      <th>Latest_Transaction</th>\n",
       "    </tr>\n",
       "  </thead>\n",
       "  <tbody>\n",
       "    <tr>\n",
       "      <th>0</th>\n",
       "      <td>CS2945</td>\n",
       "      <td>153.0</td>\n",
       "      <td>516.0</td>\n",
       "      <td>173.0</td>\n",
       "      <td>1029.0</td>\n",
       "      <td>40.0</td>\n",
       "      <td>2.0</td>\n",
       "      <td>7.0</td>\n",
       "      <td>3.0</td>\n",
       "      <td>13.0</td>\n",
       "      <td>1.0</td>\n",
       "      <td>18-May-11</td>\n",
       "      <td>08-Mar-15</td>\n",
       "    </tr>\n",
       "    <tr>\n",
       "      <th>1</th>\n",
       "      <td>CS4074</td>\n",
       "      <td>269.0</td>\n",
       "      <td>429.0</td>\n",
       "      <td>737.0</td>\n",
       "      <td>1027.0</td>\n",
       "      <td>0.0</td>\n",
       "      <td>3.0</td>\n",
       "      <td>6.0</td>\n",
       "      <td>10.0</td>\n",
       "      <td>15.0</td>\n",
       "      <td>0.0</td>\n",
       "      <td>29-May-11</td>\n",
       "      <td>05-Dec-14</td>\n",
       "    </tr>\n",
       "    <tr>\n",
       "      <th>2</th>\n",
       "      <td>CS4798</td>\n",
       "      <td>153.0</td>\n",
       "      <td>536.0</td>\n",
       "      <td>414.0</td>\n",
       "      <td>1001.0</td>\n",
       "      <td>47.0</td>\n",
       "      <td>2.0</td>\n",
       "      <td>7.0</td>\n",
       "      <td>6.0</td>\n",
       "      <td>11.0</td>\n",
       "      <td>1.0</td>\n",
       "      <td>01-Jul-11</td>\n",
       "      <td>21-Feb-15</td>\n",
       "    </tr>\n",
       "    <tr>\n",
       "      <th>3</th>\n",
       "      <td>CS4424</td>\n",
       "      <td>547.0</td>\n",
       "      <td>380.0</td>\n",
       "      <td>921.0</td>\n",
       "      <td>984.0</td>\n",
       "      <td>101.0</td>\n",
       "      <td>7.0</td>\n",
       "      <td>5.0</td>\n",
       "      <td>13.0</td>\n",
       "      <td>13.0</td>\n",
       "      <td>1.0</td>\n",
       "      <td>25-May-11</td>\n",
       "      <td>19-Jan-15</td>\n",
       "    </tr>\n",
       "    <tr>\n",
       "      <th>4</th>\n",
       "      <td>CS5057</td>\n",
       "      <td>290.0</td>\n",
       "      <td>235.0</td>\n",
       "      <td>509.0</td>\n",
       "      <td>974.0</td>\n",
       "      <td>0.0</td>\n",
       "      <td>4.0</td>\n",
       "      <td>4.0</td>\n",
       "      <td>6.0</td>\n",
       "      <td>12.0</td>\n",
       "      <td>0.0</td>\n",
       "      <td>10-Jul-11</td>\n",
       "      <td>02-Dec-14</td>\n",
       "    </tr>\n",
       "  </tbody>\n",
       "</table>\n",
       "</div>"
      ],
      "text/plain": [
       "  customer_id  tran_amount_2011  tran_amount_2012  tran_amount_2013  \\\n",
       "0      CS2945             153.0             516.0             173.0   \n",
       "1      CS4074             269.0             429.0             737.0   \n",
       "2      CS4798             153.0             536.0             414.0   \n",
       "3      CS4424             547.0             380.0             921.0   \n",
       "4      CS5057             290.0             235.0             509.0   \n",
       "\n",
       "   tran_amount_2014  tran_amount_2015  transactions_2011  transactions_2012  \\\n",
       "0            1029.0              40.0                2.0                7.0   \n",
       "1            1027.0               0.0                3.0                6.0   \n",
       "2            1001.0              47.0                2.0                7.0   \n",
       "3             984.0             101.0                7.0                5.0   \n",
       "4             974.0               0.0                4.0                4.0   \n",
       "\n",
       "   transactions_2013  transactions_2014  transactions_2015 First_Transaction  \\\n",
       "0                3.0               13.0                1.0         18-May-11   \n",
       "1               10.0               15.0                0.0         29-May-11   \n",
       "2                6.0               11.0                1.0         01-Jul-11   \n",
       "3               13.0               13.0                1.0         25-May-11   \n",
       "4                6.0               12.0                0.0         10-Jul-11   \n",
       "\n",
       "  Latest_Transaction  \n",
       "0          08-Mar-15  \n",
       "1          05-Dec-14  \n",
       "2          21-Feb-15  \n",
       "3          19-Jan-15  \n",
       "4          02-Dec-14  "
      ]
     },
     "execution_count": 13,
     "metadata": {},
     "output_type": "execute_result"
    }
   ],
   "source": [
    "Retail_data.head()"
   ]
  },
  {
   "cell_type": "markdown",
   "id": "4d8f4894",
   "metadata": {
    "papermill": {
     "duration": 0.035071,
     "end_time": "2022-03-31T15:36:22.202584",
     "exception": false,
     "start_time": "2022-03-31T15:36:22.167513",
     "status": "completed"
    },
    "tags": []
   },
   "source": [
    "***Creating new columns in the dataframe Total Customer Spend, Total customer transaction & Customer ATV***"
   ]
  },
  {
   "cell_type": "code",
   "execution_count": 14,
   "id": "dacaf958",
   "metadata": {
    "execution": {
     "iopub.execute_input": "2022-03-31T15:36:22.281872Z",
     "iopub.status.busy": "2022-03-31T15:36:22.278072Z",
     "iopub.status.idle": "2022-03-31T15:36:22.309311Z",
     "shell.execute_reply": "2022-03-31T15:36:22.308743Z",
     "shell.execute_reply.started": "2022-03-31T15:33:01.331435Z"
    },
    "papermill": {
     "duration": 0.071366,
     "end_time": "2022-03-31T15:36:22.309469",
     "exception": false,
     "start_time": "2022-03-31T15:36:22.238103",
     "status": "completed"
    },
    "tags": []
   },
   "outputs": [
    {
     "data": {
      "text/html": [
       "<div>\n",
       "<style scoped>\n",
       "    .dataframe tbody tr th:only-of-type {\n",
       "        vertical-align: middle;\n",
       "    }\n",
       "\n",
       "    .dataframe tbody tr th {\n",
       "        vertical-align: top;\n",
       "    }\n",
       "\n",
       "    .dataframe thead th {\n",
       "        text-align: right;\n",
       "    }\n",
       "</style>\n",
       "<table border=\"1\" class=\"dataframe\">\n",
       "  <thead>\n",
       "    <tr style=\"text-align: right;\">\n",
       "      <th></th>\n",
       "      <th>customer_id</th>\n",
       "      <th>tran_amount_2011</th>\n",
       "      <th>tran_amount_2012</th>\n",
       "      <th>tran_amount_2013</th>\n",
       "      <th>tran_amount_2014</th>\n",
       "      <th>tran_amount_2015</th>\n",
       "      <th>transactions_2011</th>\n",
       "      <th>transactions_2012</th>\n",
       "      <th>transactions_2013</th>\n",
       "      <th>transactions_2014</th>\n",
       "      <th>transactions_2015</th>\n",
       "      <th>First_Transaction</th>\n",
       "      <th>Latest_Transaction</th>\n",
       "      <th>Total Customer Spend</th>\n",
       "      <th>Total Customer Transaction</th>\n",
       "      <th>Customer ATV</th>\n",
       "    </tr>\n",
       "  </thead>\n",
       "  <tbody>\n",
       "    <tr>\n",
       "      <th>0</th>\n",
       "      <td>CS2945</td>\n",
       "      <td>153.0</td>\n",
       "      <td>516.0</td>\n",
       "      <td>173.0</td>\n",
       "      <td>1029.0</td>\n",
       "      <td>40.0</td>\n",
       "      <td>2.0</td>\n",
       "      <td>7.0</td>\n",
       "      <td>3.0</td>\n",
       "      <td>13.0</td>\n",
       "      <td>1.0</td>\n",
       "      <td>18-May-11</td>\n",
       "      <td>08-Mar-15</td>\n",
       "      <td>1911.0</td>\n",
       "      <td>26.0</td>\n",
       "      <td>73.50</td>\n",
       "    </tr>\n",
       "    <tr>\n",
       "      <th>1</th>\n",
       "      <td>CS4074</td>\n",
       "      <td>269.0</td>\n",
       "      <td>429.0</td>\n",
       "      <td>737.0</td>\n",
       "      <td>1027.0</td>\n",
       "      <td>0.0</td>\n",
       "      <td>3.0</td>\n",
       "      <td>6.0</td>\n",
       "      <td>10.0</td>\n",
       "      <td>15.0</td>\n",
       "      <td>0.0</td>\n",
       "      <td>29-May-11</td>\n",
       "      <td>05-Dec-14</td>\n",
       "      <td>2462.0</td>\n",
       "      <td>34.0</td>\n",
       "      <td>72.41</td>\n",
       "    </tr>\n",
       "    <tr>\n",
       "      <th>2</th>\n",
       "      <td>CS4798</td>\n",
       "      <td>153.0</td>\n",
       "      <td>536.0</td>\n",
       "      <td>414.0</td>\n",
       "      <td>1001.0</td>\n",
       "      <td>47.0</td>\n",
       "      <td>2.0</td>\n",
       "      <td>7.0</td>\n",
       "      <td>6.0</td>\n",
       "      <td>11.0</td>\n",
       "      <td>1.0</td>\n",
       "      <td>01-Jul-11</td>\n",
       "      <td>21-Feb-15</td>\n",
       "      <td>2151.0</td>\n",
       "      <td>27.0</td>\n",
       "      <td>79.67</td>\n",
       "    </tr>\n",
       "    <tr>\n",
       "      <th>3</th>\n",
       "      <td>CS4424</td>\n",
       "      <td>547.0</td>\n",
       "      <td>380.0</td>\n",
       "      <td>921.0</td>\n",
       "      <td>984.0</td>\n",
       "      <td>101.0</td>\n",
       "      <td>7.0</td>\n",
       "      <td>5.0</td>\n",
       "      <td>13.0</td>\n",
       "      <td>13.0</td>\n",
       "      <td>1.0</td>\n",
       "      <td>25-May-11</td>\n",
       "      <td>19-Jan-15</td>\n",
       "      <td>2933.0</td>\n",
       "      <td>39.0</td>\n",
       "      <td>75.21</td>\n",
       "    </tr>\n",
       "    <tr>\n",
       "      <th>4</th>\n",
       "      <td>CS5057</td>\n",
       "      <td>290.0</td>\n",
       "      <td>235.0</td>\n",
       "      <td>509.0</td>\n",
       "      <td>974.0</td>\n",
       "      <td>0.0</td>\n",
       "      <td>4.0</td>\n",
       "      <td>4.0</td>\n",
       "      <td>6.0</td>\n",
       "      <td>12.0</td>\n",
       "      <td>0.0</td>\n",
       "      <td>10-Jul-11</td>\n",
       "      <td>02-Dec-14</td>\n",
       "      <td>2008.0</td>\n",
       "      <td>26.0</td>\n",
       "      <td>77.23</td>\n",
       "    </tr>\n",
       "  </tbody>\n",
       "</table>\n",
       "</div>"
      ],
      "text/plain": [
       "  customer_id  tran_amount_2011  tran_amount_2012  tran_amount_2013  \\\n",
       "0      CS2945             153.0             516.0             173.0   \n",
       "1      CS4074             269.0             429.0             737.0   \n",
       "2      CS4798             153.0             536.0             414.0   \n",
       "3      CS4424             547.0             380.0             921.0   \n",
       "4      CS5057             290.0             235.0             509.0   \n",
       "\n",
       "   tran_amount_2014  tran_amount_2015  transactions_2011  transactions_2012  \\\n",
       "0            1029.0              40.0                2.0                7.0   \n",
       "1            1027.0               0.0                3.0                6.0   \n",
       "2            1001.0              47.0                2.0                7.0   \n",
       "3             984.0             101.0                7.0                5.0   \n",
       "4             974.0               0.0                4.0                4.0   \n",
       "\n",
       "   transactions_2013  transactions_2014  transactions_2015 First_Transaction  \\\n",
       "0                3.0               13.0                1.0         18-May-11   \n",
       "1               10.0               15.0                0.0         29-May-11   \n",
       "2                6.0               11.0                1.0         01-Jul-11   \n",
       "3               13.0               13.0                1.0         25-May-11   \n",
       "4                6.0               12.0                0.0         10-Jul-11   \n",
       "\n",
       "  Latest_Transaction  Total Customer Spend  Total Customer Transaction  \\\n",
       "0          08-Mar-15                1911.0                        26.0   \n",
       "1          05-Dec-14                2462.0                        34.0   \n",
       "2          21-Feb-15                2151.0                        27.0   \n",
       "3          19-Jan-15                2933.0                        39.0   \n",
       "4          02-Dec-14                2008.0                        26.0   \n",
       "\n",
       "   Customer ATV  \n",
       "0         73.50  \n",
       "1         72.41  \n",
       "2         79.67  \n",
       "3         75.21  \n",
       "4         77.23  "
      ]
     },
     "execution_count": 14,
     "metadata": {},
     "output_type": "execute_result"
    }
   ],
   "source": [
    "Retail_data['Total Customer Spend'] = Retail_data.iloc[:,1:6].sum(axis=1)\n",
    "Retail_data['Total Customer Transaction'] = Retail_data.iloc[:,6:-3].sum(axis=1)\n",
    "Retail_data['Customer ATV'] = np.round(Retail_data['Total Customer Spend'].div(Retail_data['Total Customer Transaction']),2)\n",
    "Retail_data.head()"
   ]
  },
  {
   "cell_type": "markdown",
   "id": "8ba7b121",
   "metadata": {
    "papermill": {
     "duration": 0.029162,
     "end_time": "2022-03-31T15:36:22.368246",
     "exception": false,
     "start_time": "2022-03-31T15:36:22.339084",
     "status": "completed"
    },
    "tags": []
   },
   "source": [
    "***Customer with highest transactions***"
   ]
  },
  {
   "cell_type": "code",
   "execution_count": 15,
   "id": "de9a7b01",
   "metadata": {
    "execution": {
     "iopub.execute_input": "2022-03-31T15:36:22.431177Z",
     "iopub.status.busy": "2022-03-31T15:36:22.430489Z",
     "iopub.status.idle": "2022-03-31T15:36:22.455841Z",
     "shell.execute_reply": "2022-03-31T15:36:22.455286Z",
     "shell.execute_reply.started": "2022-03-31T15:34:29.290713Z"
    },
    "papermill": {
     "duration": 0.058295,
     "end_time": "2022-03-31T15:36:22.456007",
     "exception": false,
     "start_time": "2022-03-31T15:36:22.397712",
     "status": "completed"
    },
    "tags": []
   },
   "outputs": [
    {
     "data": {
      "text/html": [
       "<div>\n",
       "<style scoped>\n",
       "    .dataframe tbody tr th:only-of-type {\n",
       "        vertical-align: middle;\n",
       "    }\n",
       "\n",
       "    .dataframe tbody tr th {\n",
       "        vertical-align: top;\n",
       "    }\n",
       "\n",
       "    .dataframe thead th {\n",
       "        text-align: right;\n",
       "    }\n",
       "</style>\n",
       "<table border=\"1\" class=\"dataframe\">\n",
       "  <thead>\n",
       "    <tr style=\"text-align: right;\">\n",
       "      <th></th>\n",
       "      <th>customer_id</th>\n",
       "      <th>tran_amount_2011</th>\n",
       "      <th>tran_amount_2012</th>\n",
       "      <th>tran_amount_2013</th>\n",
       "      <th>tran_amount_2014</th>\n",
       "      <th>tran_amount_2015</th>\n",
       "      <th>transactions_2011</th>\n",
       "      <th>transactions_2012</th>\n",
       "      <th>transactions_2013</th>\n",
       "      <th>transactions_2014</th>\n",
       "      <th>transactions_2015</th>\n",
       "      <th>First_Transaction</th>\n",
       "      <th>Latest_Transaction</th>\n",
       "      <th>Total Customer Spend</th>\n",
       "      <th>Total Customer Transaction</th>\n",
       "      <th>Customer ATV</th>\n",
       "    </tr>\n",
       "  </thead>\n",
       "  <tbody>\n",
       "    <tr>\n",
       "      <th>3</th>\n",
       "      <td>CS4424</td>\n",
       "      <td>547.0</td>\n",
       "      <td>380.0</td>\n",
       "      <td>921.0</td>\n",
       "      <td>984.0</td>\n",
       "      <td>101.0</td>\n",
       "      <td>7.0</td>\n",
       "      <td>5.0</td>\n",
       "      <td>13.0</td>\n",
       "      <td>13.0</td>\n",
       "      <td>1.0</td>\n",
       "      <td>25-May-11</td>\n",
       "      <td>19-Jan-15</td>\n",
       "      <td>2933.0</td>\n",
       "      <td>39.0</td>\n",
       "      <td>75.21</td>\n",
       "    </tr>\n",
       "  </tbody>\n",
       "</table>\n",
       "</div>"
      ],
      "text/plain": [
       "  customer_id  tran_amount_2011  tran_amount_2012  tran_amount_2013  \\\n",
       "3      CS4424             547.0             380.0             921.0   \n",
       "\n",
       "   tran_amount_2014  tran_amount_2015  transactions_2011  transactions_2012  \\\n",
       "3             984.0             101.0                7.0                5.0   \n",
       "\n",
       "   transactions_2013  transactions_2014  transactions_2015 First_Transaction  \\\n",
       "3               13.0               13.0                1.0         25-May-11   \n",
       "\n",
       "  Latest_Transaction  Total Customer Spend  Total Customer Transaction  \\\n",
       "3          19-Jan-15                2933.0                        39.0   \n",
       "\n",
       "   Customer ATV  \n",
       "3         75.21  "
      ]
     },
     "execution_count": 15,
     "metadata": {},
     "output_type": "execute_result"
    }
   ],
   "source": [
    "Retail_data[Retail_data['Total Customer Transaction']  == Retail_data['Total Customer Transaction'].max()]"
   ]
  }
 ],
 "metadata": {
  "kernelspec": {
   "display_name": "Python 3",
   "language": "python",
   "name": "python3"
  },
  "language_info": {
   "codemirror_mode": {
    "name": "ipython",
    "version": 3
   },
   "file_extension": ".py",
   "mimetype": "text/x-python",
   "name": "python",
   "nbconvert_exporter": "python",
   "pygments_lexer": "ipython3",
   "version": "3.7.12"
  },
  "papermill": {
   "default_parameters": {},
   "duration": 13.149749,
   "end_time": "2022-03-31T15:36:23.198608",
   "environment_variables": {},
   "exception": null,
   "input_path": "__notebook__.ipynb",
   "output_path": "__notebook__.ipynb",
   "parameters": {},
   "start_time": "2022-03-31T15:36:10.048859",
   "version": "2.3.3"
  }
 },
 "nbformat": 4,
 "nbformat_minor": 5
}
