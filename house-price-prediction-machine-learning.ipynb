{
 "cells": [
  {
   "cell_type": "markdown",
   "id": "57d89596",
   "metadata": {
    "papermill": {
     "duration": 0.037575,
     "end_time": "2022-04-01T17:17:55.484835",
     "exception": false,
     "start_time": "2022-04-01T17:17:55.447260",
     "status": "completed"
    },
    "tags": []
   },
   "source": [
    "## Importing the necessary libraries."
   ]
  },
  {
   "cell_type": "code",
   "execution_count": 1,
   "id": "8c60ae14",
   "metadata": {
    "execution": {
     "iopub.execute_input": "2022-04-01T17:17:55.567667Z",
     "iopub.status.busy": "2022-04-01T17:17:55.562800Z",
     "iopub.status.idle": "2022-04-01T17:17:56.739986Z",
     "shell.execute_reply": "2022-04-01T17:17:56.738781Z",
     "shell.execute_reply.started": "2022-04-01T16:59:48.751387Z"
    },
    "papermill": {
     "duration": 1.217014,
     "end_time": "2022-04-01T17:17:56.740182",
     "exception": false,
     "start_time": "2022-04-01T17:17:55.523168",
     "status": "completed"
    },
    "tags": []
   },
   "outputs": [],
   "source": [
    "import pandas as pd\n",
    "import numpy as np\n",
    "import seaborn as sns\n",
    "import matplotlib.pyplot as plt\n",
    "%matplotlib inline"
   ]
  },
  {
   "cell_type": "markdown",
   "id": "eb34232f",
   "metadata": {
    "papermill": {
     "duration": 0.036564,
     "end_time": "2022-04-01T17:17:56.813065",
     "exception": false,
     "start_time": "2022-04-01T17:17:56.776501",
     "status": "completed"
    },
    "tags": []
   },
   "source": [
    "### Lets load our data into the notebook."
   ]
  },
  {
   "cell_type": "code",
   "execution_count": 2,
   "id": "3c6a16fc",
   "metadata": {
    "execution": {
     "iopub.execute_input": "2022-04-01T17:17:56.890757Z",
     "iopub.status.busy": "2022-04-01T17:17:56.890056Z",
     "iopub.status.idle": "2022-04-01T17:17:56.977111Z",
     "shell.execute_reply": "2022-04-01T17:17:56.977694Z",
     "shell.execute_reply.started": "2022-04-01T16:36:57.723985Z"
    },
    "papermill": {
     "duration": 0.12709,
     "end_time": "2022-04-01T17:17:56.977876",
     "exception": false,
     "start_time": "2022-04-01T17:17:56.850786",
     "status": "completed"
    },
    "tags": []
   },
   "outputs": [],
   "source": [
    "df_train = pd.read_csv(\"../input/house-prices-advanced-regression-techniques/train.csv\")\n",
    "df_test = pd.read_csv(\"../input/house-prices-advanced-regression-techniques/test.csv\")"
   ]
  },
  {
   "cell_type": "markdown",
   "id": "477f2243",
   "metadata": {
    "papermill": {
     "duration": 0.036585,
     "end_time": "2022-04-01T17:17:57.050566",
     "exception": false,
     "start_time": "2022-04-01T17:17:57.013981",
     "status": "completed"
    },
    "tags": []
   },
   "source": [
    "**Data import successful**"
   ]
  },
  {
   "cell_type": "code",
   "execution_count": 3,
   "id": "f15ebe91",
   "metadata": {
    "execution": {
     "iopub.execute_input": "2022-04-01T17:17:57.129667Z",
     "iopub.status.busy": "2022-04-01T17:17:57.128969Z",
     "iopub.status.idle": "2022-04-01T17:17:57.170605Z",
     "shell.execute_reply": "2022-04-01T17:17:57.169632Z",
     "shell.execute_reply.started": "2022-04-01T16:37:53.162581Z"
    },
    "papermill": {
     "duration": 0.082421,
     "end_time": "2022-04-01T17:17:57.170778",
     "exception": false,
     "start_time": "2022-04-01T17:17:57.088357",
     "status": "completed"
    },
    "tags": []
   },
   "outputs": [
    {
     "data": {
      "text/html": [
       "<div>\n",
       "<style scoped>\n",
       "    .dataframe tbody tr th:only-of-type {\n",
       "        vertical-align: middle;\n",
       "    }\n",
       "\n",
       "    .dataframe tbody tr th {\n",
       "        vertical-align: top;\n",
       "    }\n",
       "\n",
       "    .dataframe thead th {\n",
       "        text-align: right;\n",
       "    }\n",
       "</style>\n",
       "<table border=\"1\" class=\"dataframe\">\n",
       "  <thead>\n",
       "    <tr style=\"text-align: right;\">\n",
       "      <th></th>\n",
       "      <th>Id</th>\n",
       "      <th>MSSubClass</th>\n",
       "      <th>MSZoning</th>\n",
       "      <th>LotFrontage</th>\n",
       "      <th>LotArea</th>\n",
       "      <th>Street</th>\n",
       "      <th>Alley</th>\n",
       "      <th>LotShape</th>\n",
       "      <th>LandContour</th>\n",
       "      <th>Utilities</th>\n",
       "      <th>...</th>\n",
       "      <th>PoolArea</th>\n",
       "      <th>PoolQC</th>\n",
       "      <th>Fence</th>\n",
       "      <th>MiscFeature</th>\n",
       "      <th>MiscVal</th>\n",
       "      <th>MoSold</th>\n",
       "      <th>YrSold</th>\n",
       "      <th>SaleType</th>\n",
       "      <th>SaleCondition</th>\n",
       "      <th>SalePrice</th>\n",
       "    </tr>\n",
       "  </thead>\n",
       "  <tbody>\n",
       "    <tr>\n",
       "      <th>0</th>\n",
       "      <td>1</td>\n",
       "      <td>60</td>\n",
       "      <td>RL</td>\n",
       "      <td>65.0</td>\n",
       "      <td>8450</td>\n",
       "      <td>Pave</td>\n",
       "      <td>NaN</td>\n",
       "      <td>Reg</td>\n",
       "      <td>Lvl</td>\n",
       "      <td>AllPub</td>\n",
       "      <td>...</td>\n",
       "      <td>0</td>\n",
       "      <td>NaN</td>\n",
       "      <td>NaN</td>\n",
       "      <td>NaN</td>\n",
       "      <td>0</td>\n",
       "      <td>2</td>\n",
       "      <td>2008</td>\n",
       "      <td>WD</td>\n",
       "      <td>Normal</td>\n",
       "      <td>208500</td>\n",
       "    </tr>\n",
       "    <tr>\n",
       "      <th>1</th>\n",
       "      <td>2</td>\n",
       "      <td>20</td>\n",
       "      <td>RL</td>\n",
       "      <td>80.0</td>\n",
       "      <td>9600</td>\n",
       "      <td>Pave</td>\n",
       "      <td>NaN</td>\n",
       "      <td>Reg</td>\n",
       "      <td>Lvl</td>\n",
       "      <td>AllPub</td>\n",
       "      <td>...</td>\n",
       "      <td>0</td>\n",
       "      <td>NaN</td>\n",
       "      <td>NaN</td>\n",
       "      <td>NaN</td>\n",
       "      <td>0</td>\n",
       "      <td>5</td>\n",
       "      <td>2007</td>\n",
       "      <td>WD</td>\n",
       "      <td>Normal</td>\n",
       "      <td>181500</td>\n",
       "    </tr>\n",
       "    <tr>\n",
       "      <th>2</th>\n",
       "      <td>3</td>\n",
       "      <td>60</td>\n",
       "      <td>RL</td>\n",
       "      <td>68.0</td>\n",
       "      <td>11250</td>\n",
       "      <td>Pave</td>\n",
       "      <td>NaN</td>\n",
       "      <td>IR1</td>\n",
       "      <td>Lvl</td>\n",
       "      <td>AllPub</td>\n",
       "      <td>...</td>\n",
       "      <td>0</td>\n",
       "      <td>NaN</td>\n",
       "      <td>NaN</td>\n",
       "      <td>NaN</td>\n",
       "      <td>0</td>\n",
       "      <td>9</td>\n",
       "      <td>2008</td>\n",
       "      <td>WD</td>\n",
       "      <td>Normal</td>\n",
       "      <td>223500</td>\n",
       "    </tr>\n",
       "    <tr>\n",
       "      <th>3</th>\n",
       "      <td>4</td>\n",
       "      <td>70</td>\n",
       "      <td>RL</td>\n",
       "      <td>60.0</td>\n",
       "      <td>9550</td>\n",
       "      <td>Pave</td>\n",
       "      <td>NaN</td>\n",
       "      <td>IR1</td>\n",
       "      <td>Lvl</td>\n",
       "      <td>AllPub</td>\n",
       "      <td>...</td>\n",
       "      <td>0</td>\n",
       "      <td>NaN</td>\n",
       "      <td>NaN</td>\n",
       "      <td>NaN</td>\n",
       "      <td>0</td>\n",
       "      <td>2</td>\n",
       "      <td>2006</td>\n",
       "      <td>WD</td>\n",
       "      <td>Abnorml</td>\n",
       "      <td>140000</td>\n",
       "    </tr>\n",
       "    <tr>\n",
       "      <th>4</th>\n",
       "      <td>5</td>\n",
       "      <td>60</td>\n",
       "      <td>RL</td>\n",
       "      <td>84.0</td>\n",
       "      <td>14260</td>\n",
       "      <td>Pave</td>\n",
       "      <td>NaN</td>\n",
       "      <td>IR1</td>\n",
       "      <td>Lvl</td>\n",
       "      <td>AllPub</td>\n",
       "      <td>...</td>\n",
       "      <td>0</td>\n",
       "      <td>NaN</td>\n",
       "      <td>NaN</td>\n",
       "      <td>NaN</td>\n",
       "      <td>0</td>\n",
       "      <td>12</td>\n",
       "      <td>2008</td>\n",
       "      <td>WD</td>\n",
       "      <td>Normal</td>\n",
       "      <td>250000</td>\n",
       "    </tr>\n",
       "  </tbody>\n",
       "</table>\n",
       "<p>5 rows × 81 columns</p>\n",
       "</div>"
      ],
      "text/plain": [
       "   Id  MSSubClass MSZoning  LotFrontage  LotArea Street Alley LotShape  \\\n",
       "0   1          60       RL         65.0     8450   Pave   NaN      Reg   \n",
       "1   2          20       RL         80.0     9600   Pave   NaN      Reg   \n",
       "2   3          60       RL         68.0    11250   Pave   NaN      IR1   \n",
       "3   4          70       RL         60.0     9550   Pave   NaN      IR1   \n",
       "4   5          60       RL         84.0    14260   Pave   NaN      IR1   \n",
       "\n",
       "  LandContour Utilities  ... PoolArea PoolQC Fence MiscFeature MiscVal MoSold  \\\n",
       "0         Lvl    AllPub  ...        0    NaN   NaN         NaN       0      2   \n",
       "1         Lvl    AllPub  ...        0    NaN   NaN         NaN       0      5   \n",
       "2         Lvl    AllPub  ...        0    NaN   NaN         NaN       0      9   \n",
       "3         Lvl    AllPub  ...        0    NaN   NaN         NaN       0      2   \n",
       "4         Lvl    AllPub  ...        0    NaN   NaN         NaN       0     12   \n",
       "\n",
       "  YrSold  SaleType  SaleCondition  SalePrice  \n",
       "0   2008        WD         Normal     208500  \n",
       "1   2007        WD         Normal     181500  \n",
       "2   2008        WD         Normal     223500  \n",
       "3   2006        WD        Abnorml     140000  \n",
       "4   2008        WD         Normal     250000  \n",
       "\n",
       "[5 rows x 81 columns]"
      ]
     },
     "execution_count": 3,
     "metadata": {},
     "output_type": "execute_result"
    }
   ],
   "source": [
    "df_train.head()"
   ]
  },
  {
   "cell_type": "code",
   "execution_count": 4,
   "id": "e54427d6",
   "metadata": {
    "execution": {
     "iopub.execute_input": "2022-04-01T17:17:57.251025Z",
     "iopub.status.busy": "2022-04-01T17:17:57.250330Z",
     "iopub.status.idle": "2022-04-01T17:17:57.354587Z",
     "shell.execute_reply": "2022-04-01T17:17:57.353861Z",
     "shell.execute_reply.started": "2022-04-01T16:38:54.492435Z"
    },
    "papermill": {
     "duration": 0.145526,
     "end_time": "2022-04-01T17:17:57.354767",
     "exception": false,
     "start_time": "2022-04-01T17:17:57.209241",
     "status": "completed"
    },
    "tags": []
   },
   "outputs": [
    {
     "data": {
      "text/html": [
       "<div>\n",
       "<style scoped>\n",
       "    .dataframe tbody tr th:only-of-type {\n",
       "        vertical-align: middle;\n",
       "    }\n",
       "\n",
       "    .dataframe tbody tr th {\n",
       "        vertical-align: top;\n",
       "    }\n",
       "\n",
       "    .dataframe thead th {\n",
       "        text-align: right;\n",
       "    }\n",
       "</style>\n",
       "<table border=\"1\" class=\"dataframe\">\n",
       "  <thead>\n",
       "    <tr style=\"text-align: right;\">\n",
       "      <th></th>\n",
       "      <th>Id</th>\n",
       "      <th>MSSubClass</th>\n",
       "      <th>LotFrontage</th>\n",
       "      <th>LotArea</th>\n",
       "      <th>OverallQual</th>\n",
       "      <th>OverallCond</th>\n",
       "      <th>YearBuilt</th>\n",
       "      <th>YearRemodAdd</th>\n",
       "      <th>MasVnrArea</th>\n",
       "      <th>BsmtFinSF1</th>\n",
       "      <th>...</th>\n",
       "      <th>GarageArea</th>\n",
       "      <th>WoodDeckSF</th>\n",
       "      <th>OpenPorchSF</th>\n",
       "      <th>EnclosedPorch</th>\n",
       "      <th>3SsnPorch</th>\n",
       "      <th>ScreenPorch</th>\n",
       "      <th>PoolArea</th>\n",
       "      <th>MiscVal</th>\n",
       "      <th>MoSold</th>\n",
       "      <th>YrSold</th>\n",
       "    </tr>\n",
       "  </thead>\n",
       "  <tbody>\n",
       "    <tr>\n",
       "      <th>count</th>\n",
       "      <td>1459.000000</td>\n",
       "      <td>1459.000000</td>\n",
       "      <td>1232.000000</td>\n",
       "      <td>1459.000000</td>\n",
       "      <td>1459.000000</td>\n",
       "      <td>1459.000000</td>\n",
       "      <td>1459.000000</td>\n",
       "      <td>1459.000000</td>\n",
       "      <td>1444.000000</td>\n",
       "      <td>1458.000000</td>\n",
       "      <td>...</td>\n",
       "      <td>1458.000000</td>\n",
       "      <td>1459.000000</td>\n",
       "      <td>1459.000000</td>\n",
       "      <td>1459.000000</td>\n",
       "      <td>1459.000000</td>\n",
       "      <td>1459.000000</td>\n",
       "      <td>1459.000000</td>\n",
       "      <td>1459.000000</td>\n",
       "      <td>1459.000000</td>\n",
       "      <td>1459.000000</td>\n",
       "    </tr>\n",
       "    <tr>\n",
       "      <th>mean</th>\n",
       "      <td>2190.000000</td>\n",
       "      <td>57.378341</td>\n",
       "      <td>68.580357</td>\n",
       "      <td>9819.161069</td>\n",
       "      <td>6.078821</td>\n",
       "      <td>5.553804</td>\n",
       "      <td>1971.357779</td>\n",
       "      <td>1983.662783</td>\n",
       "      <td>100.709141</td>\n",
       "      <td>439.203704</td>\n",
       "      <td>...</td>\n",
       "      <td>472.768861</td>\n",
       "      <td>93.174777</td>\n",
       "      <td>48.313914</td>\n",
       "      <td>24.243317</td>\n",
       "      <td>1.794380</td>\n",
       "      <td>17.064428</td>\n",
       "      <td>1.744345</td>\n",
       "      <td>58.167923</td>\n",
       "      <td>6.104181</td>\n",
       "      <td>2007.769705</td>\n",
       "    </tr>\n",
       "    <tr>\n",
       "      <th>std</th>\n",
       "      <td>421.321334</td>\n",
       "      <td>42.746880</td>\n",
       "      <td>22.376841</td>\n",
       "      <td>4955.517327</td>\n",
       "      <td>1.436812</td>\n",
       "      <td>1.113740</td>\n",
       "      <td>30.390071</td>\n",
       "      <td>21.130467</td>\n",
       "      <td>177.625900</td>\n",
       "      <td>455.268042</td>\n",
       "      <td>...</td>\n",
       "      <td>217.048611</td>\n",
       "      <td>127.744882</td>\n",
       "      <td>68.883364</td>\n",
       "      <td>67.227765</td>\n",
       "      <td>20.207842</td>\n",
       "      <td>56.609763</td>\n",
       "      <td>30.491646</td>\n",
       "      <td>630.806978</td>\n",
       "      <td>2.722432</td>\n",
       "      <td>1.301740</td>\n",
       "    </tr>\n",
       "    <tr>\n",
       "      <th>min</th>\n",
       "      <td>1461.000000</td>\n",
       "      <td>20.000000</td>\n",
       "      <td>21.000000</td>\n",
       "      <td>1470.000000</td>\n",
       "      <td>1.000000</td>\n",
       "      <td>1.000000</td>\n",
       "      <td>1879.000000</td>\n",
       "      <td>1950.000000</td>\n",
       "      <td>0.000000</td>\n",
       "      <td>0.000000</td>\n",
       "      <td>...</td>\n",
       "      <td>0.000000</td>\n",
       "      <td>0.000000</td>\n",
       "      <td>0.000000</td>\n",
       "      <td>0.000000</td>\n",
       "      <td>0.000000</td>\n",
       "      <td>0.000000</td>\n",
       "      <td>0.000000</td>\n",
       "      <td>0.000000</td>\n",
       "      <td>1.000000</td>\n",
       "      <td>2006.000000</td>\n",
       "    </tr>\n",
       "    <tr>\n",
       "      <th>25%</th>\n",
       "      <td>1825.500000</td>\n",
       "      <td>20.000000</td>\n",
       "      <td>58.000000</td>\n",
       "      <td>7391.000000</td>\n",
       "      <td>5.000000</td>\n",
       "      <td>5.000000</td>\n",
       "      <td>1953.000000</td>\n",
       "      <td>1963.000000</td>\n",
       "      <td>0.000000</td>\n",
       "      <td>0.000000</td>\n",
       "      <td>...</td>\n",
       "      <td>318.000000</td>\n",
       "      <td>0.000000</td>\n",
       "      <td>0.000000</td>\n",
       "      <td>0.000000</td>\n",
       "      <td>0.000000</td>\n",
       "      <td>0.000000</td>\n",
       "      <td>0.000000</td>\n",
       "      <td>0.000000</td>\n",
       "      <td>4.000000</td>\n",
       "      <td>2007.000000</td>\n",
       "    </tr>\n",
       "    <tr>\n",
       "      <th>50%</th>\n",
       "      <td>2190.000000</td>\n",
       "      <td>50.000000</td>\n",
       "      <td>67.000000</td>\n",
       "      <td>9399.000000</td>\n",
       "      <td>6.000000</td>\n",
       "      <td>5.000000</td>\n",
       "      <td>1973.000000</td>\n",
       "      <td>1992.000000</td>\n",
       "      <td>0.000000</td>\n",
       "      <td>350.500000</td>\n",
       "      <td>...</td>\n",
       "      <td>480.000000</td>\n",
       "      <td>0.000000</td>\n",
       "      <td>28.000000</td>\n",
       "      <td>0.000000</td>\n",
       "      <td>0.000000</td>\n",
       "      <td>0.000000</td>\n",
       "      <td>0.000000</td>\n",
       "      <td>0.000000</td>\n",
       "      <td>6.000000</td>\n",
       "      <td>2008.000000</td>\n",
       "    </tr>\n",
       "    <tr>\n",
       "      <th>75%</th>\n",
       "      <td>2554.500000</td>\n",
       "      <td>70.000000</td>\n",
       "      <td>80.000000</td>\n",
       "      <td>11517.500000</td>\n",
       "      <td>7.000000</td>\n",
       "      <td>6.000000</td>\n",
       "      <td>2001.000000</td>\n",
       "      <td>2004.000000</td>\n",
       "      <td>164.000000</td>\n",
       "      <td>753.500000</td>\n",
       "      <td>...</td>\n",
       "      <td>576.000000</td>\n",
       "      <td>168.000000</td>\n",
       "      <td>72.000000</td>\n",
       "      <td>0.000000</td>\n",
       "      <td>0.000000</td>\n",
       "      <td>0.000000</td>\n",
       "      <td>0.000000</td>\n",
       "      <td>0.000000</td>\n",
       "      <td>8.000000</td>\n",
       "      <td>2009.000000</td>\n",
       "    </tr>\n",
       "    <tr>\n",
       "      <th>max</th>\n",
       "      <td>2919.000000</td>\n",
       "      <td>190.000000</td>\n",
       "      <td>200.000000</td>\n",
       "      <td>56600.000000</td>\n",
       "      <td>10.000000</td>\n",
       "      <td>9.000000</td>\n",
       "      <td>2010.000000</td>\n",
       "      <td>2010.000000</td>\n",
       "      <td>1290.000000</td>\n",
       "      <td>4010.000000</td>\n",
       "      <td>...</td>\n",
       "      <td>1488.000000</td>\n",
       "      <td>1424.000000</td>\n",
       "      <td>742.000000</td>\n",
       "      <td>1012.000000</td>\n",
       "      <td>360.000000</td>\n",
       "      <td>576.000000</td>\n",
       "      <td>800.000000</td>\n",
       "      <td>17000.000000</td>\n",
       "      <td>12.000000</td>\n",
       "      <td>2010.000000</td>\n",
       "    </tr>\n",
       "  </tbody>\n",
       "</table>\n",
       "<p>8 rows × 37 columns</p>\n",
       "</div>"
      ],
      "text/plain": [
       "                Id   MSSubClass  LotFrontage       LotArea  OverallQual  \\\n",
       "count  1459.000000  1459.000000  1232.000000   1459.000000  1459.000000   \n",
       "mean   2190.000000    57.378341    68.580357   9819.161069     6.078821   \n",
       "std     421.321334    42.746880    22.376841   4955.517327     1.436812   \n",
       "min    1461.000000    20.000000    21.000000   1470.000000     1.000000   \n",
       "25%    1825.500000    20.000000    58.000000   7391.000000     5.000000   \n",
       "50%    2190.000000    50.000000    67.000000   9399.000000     6.000000   \n",
       "75%    2554.500000    70.000000    80.000000  11517.500000     7.000000   \n",
       "max    2919.000000   190.000000   200.000000  56600.000000    10.000000   \n",
       "\n",
       "       OverallCond    YearBuilt  YearRemodAdd   MasVnrArea   BsmtFinSF1  ...  \\\n",
       "count  1459.000000  1459.000000   1459.000000  1444.000000  1458.000000  ...   \n",
       "mean      5.553804  1971.357779   1983.662783   100.709141   439.203704  ...   \n",
       "std       1.113740    30.390071     21.130467   177.625900   455.268042  ...   \n",
       "min       1.000000  1879.000000   1950.000000     0.000000     0.000000  ...   \n",
       "25%       5.000000  1953.000000   1963.000000     0.000000     0.000000  ...   \n",
       "50%       5.000000  1973.000000   1992.000000     0.000000   350.500000  ...   \n",
       "75%       6.000000  2001.000000   2004.000000   164.000000   753.500000  ...   \n",
       "max       9.000000  2010.000000   2010.000000  1290.000000  4010.000000  ...   \n",
       "\n",
       "        GarageArea   WoodDeckSF  OpenPorchSF  EnclosedPorch    3SsnPorch  \\\n",
       "count  1458.000000  1459.000000  1459.000000    1459.000000  1459.000000   \n",
       "mean    472.768861    93.174777    48.313914      24.243317     1.794380   \n",
       "std     217.048611   127.744882    68.883364      67.227765    20.207842   \n",
       "min       0.000000     0.000000     0.000000       0.000000     0.000000   \n",
       "25%     318.000000     0.000000     0.000000       0.000000     0.000000   \n",
       "50%     480.000000     0.000000    28.000000       0.000000     0.000000   \n",
       "75%     576.000000   168.000000    72.000000       0.000000     0.000000   \n",
       "max    1488.000000  1424.000000   742.000000    1012.000000   360.000000   \n",
       "\n",
       "       ScreenPorch     PoolArea       MiscVal       MoSold       YrSold  \n",
       "count  1459.000000  1459.000000   1459.000000  1459.000000  1459.000000  \n",
       "mean     17.064428     1.744345     58.167923     6.104181  2007.769705  \n",
       "std      56.609763    30.491646    630.806978     2.722432     1.301740  \n",
       "min       0.000000     0.000000      0.000000     1.000000  2006.000000  \n",
       "25%       0.000000     0.000000      0.000000     4.000000  2007.000000  \n",
       "50%       0.000000     0.000000      0.000000     6.000000  2008.000000  \n",
       "75%       0.000000     0.000000      0.000000     8.000000  2009.000000  \n",
       "max     576.000000   800.000000  17000.000000    12.000000  2010.000000  \n",
       "\n",
       "[8 rows x 37 columns]"
      ]
     },
     "execution_count": 4,
     "metadata": {},
     "output_type": "execute_result"
    }
   ],
   "source": [
    "df_test.describe()"
   ]
  },
  {
   "cell_type": "markdown",
   "id": "21d58f98",
   "metadata": {
    "papermill": {
     "duration": 0.037582,
     "end_time": "2022-04-01T17:17:57.430548",
     "exception": false,
     "start_time": "2022-04-01T17:17:57.392966",
     "status": "completed"
    },
    "tags": []
   },
   "source": [
    "**Living Area**"
   ]
  },
  {
   "cell_type": "code",
   "execution_count": 5,
   "id": "d4f0d7e8",
   "metadata": {
    "execution": {
     "iopub.execute_input": "2022-04-01T17:17:57.513978Z",
     "iopub.status.busy": "2022-04-01T17:17:57.510410Z",
     "iopub.status.idle": "2022-04-01T17:17:57.521005Z",
     "shell.execute_reply": "2022-04-01T17:17:57.520468Z",
     "shell.execute_reply.started": "2022-04-01T16:39:09.615020Z"
    },
    "papermill": {
     "duration": 0.051798,
     "end_time": "2022-04-01T17:17:57.521155",
     "exception": false,
     "start_time": "2022-04-01T17:17:57.469357",
     "status": "completed"
    },
    "tags": []
   },
   "outputs": [
    {
     "data": {
      "text/plain": [
       "count    1460.000000\n",
       "mean     1515.463699\n",
       "std       525.480383\n",
       "min       334.000000\n",
       "25%      1129.500000\n",
       "50%      1464.000000\n",
       "75%      1776.750000\n",
       "max      5642.000000\n",
       "Name: GrLivArea, dtype: float64"
      ]
     },
     "execution_count": 5,
     "metadata": {},
     "output_type": "execute_result"
    }
   ],
   "source": [
    "df_train.GrLivArea.describe()"
   ]
  },
  {
   "cell_type": "markdown",
   "id": "0548d25f",
   "metadata": {
    "papermill": {
     "duration": 0.037342,
     "end_time": "2022-04-01T17:17:57.596391",
     "exception": false,
     "start_time": "2022-04-01T17:17:57.559049",
     "status": "completed"
    },
    "tags": []
   },
   "source": [
    "### Feature Engineering"
   ]
  },
  {
   "cell_type": "markdown",
   "id": "b8e1986d",
   "metadata": {
    "papermill": {
     "duration": 0.037824,
     "end_time": "2022-04-01T17:17:57.671917",
     "exception": false,
     "start_time": "2022-04-01T17:17:57.634093",
     "status": "completed"
    },
    "tags": []
   },
   "source": [
    "**Feature names and staistics for our target variable which is the sale price.**"
   ]
  },
  {
   "cell_type": "code",
   "execution_count": 6,
   "id": "6f5d3b5a",
   "metadata": {
    "execution": {
     "iopub.execute_input": "2022-04-01T17:17:57.756563Z",
     "iopub.status.busy": "2022-04-01T17:17:57.755814Z",
     "iopub.status.idle": "2022-04-01T17:17:57.770907Z",
     "shell.execute_reply": "2022-04-01T17:17:57.771443Z",
     "shell.execute_reply.started": "2022-04-01T16:42:01.860367Z"
    },
    "papermill": {
     "duration": 0.061199,
     "end_time": "2022-04-01T17:17:57.771652",
     "exception": false,
     "start_time": "2022-04-01T17:17:57.710453",
     "status": "completed"
    },
    "tags": []
   },
   "outputs": [
    {
     "name": "stdout",
     "output_type": "stream",
     "text": [
      "Id\n",
      "MSSubClass\n",
      "MSZoning\n",
      "LotFrontage\n",
      "LotArea\n",
      "Street\n",
      "Alley\n",
      "LotShape\n",
      "LandContour\n",
      "Utilities\n",
      "LotConfig\n",
      "LandSlope\n",
      "Neighborhood\n",
      "Condition1\n",
      "Condition2\n",
      "BldgType\n",
      "HouseStyle\n",
      "OverallQual\n",
      "OverallCond\n",
      "YearBuilt\n",
      "YearRemodAdd\n",
      "RoofStyle\n",
      "RoofMatl\n",
      "Exterior1st\n",
      "Exterior2nd\n",
      "MasVnrType\n",
      "MasVnrArea\n",
      "ExterQual\n",
      "ExterCond\n",
      "Foundation\n",
      "BsmtQual\n",
      "BsmtCond\n",
      "BsmtExposure\n",
      "BsmtFinType1\n",
      "BsmtFinSF1\n",
      "BsmtFinType2\n",
      "BsmtFinSF2\n",
      "BsmtUnfSF\n",
      "TotalBsmtSF\n",
      "Heating\n",
      "HeatingQC\n",
      "CentralAir\n",
      "Electrical\n",
      "1stFlrSF\n",
      "2ndFlrSF\n",
      "LowQualFinSF\n",
      "GrLivArea\n",
      "BsmtFullBath\n",
      "BsmtHalfBath\n",
      "FullBath\n",
      "HalfBath\n",
      "BedroomAbvGr\n",
      "KitchenAbvGr\n",
      "KitchenQual\n",
      "TotRmsAbvGrd\n",
      "Functional\n",
      "Fireplaces\n",
      "FireplaceQu\n",
      "GarageType\n",
      "GarageYrBlt\n",
      "GarageFinish\n",
      "GarageCars\n",
      "GarageArea\n",
      "GarageQual\n",
      "GarageCond\n",
      "PavedDrive\n",
      "WoodDeckSF\n",
      "OpenPorchSF\n",
      "EnclosedPorch\n",
      "3SsnPorch\n",
      "ScreenPorch\n",
      "PoolArea\n",
      "PoolQC\n",
      "Fence\n",
      "MiscFeature\n",
      "MiscVal\n",
      "MoSold\n",
      "YrSold\n",
      "SaleType\n",
      "SaleCondition\n",
      "SalePrice\n"
     ]
    }
   ],
   "source": [
    "for col in df_train.columns:\n",
    "    print(col)"
   ]
  },
  {
   "cell_type": "markdown",
   "id": "d41d65ef",
   "metadata": {
    "papermill": {
     "duration": 0.038227,
     "end_time": "2022-04-01T17:17:57.848411",
     "exception": false,
     "start_time": "2022-04-01T17:17:57.810184",
     "status": "completed"
    },
    "tags": []
   },
   "source": [
    "### Lets visualize ECDF plot"
   ]
  },
  {
   "cell_type": "code",
   "execution_count": 7,
   "id": "b985630b",
   "metadata": {
    "execution": {
     "iopub.execute_input": "2022-04-01T17:17:57.941799Z",
     "iopub.status.busy": "2022-04-01T17:17:57.934748Z",
     "iopub.status.idle": "2022-04-01T17:17:58.497336Z",
     "shell.execute_reply": "2022-04-01T17:17:58.496411Z",
     "shell.execute_reply.started": "2022-04-01T16:43:53.415693Z"
    },
    "papermill": {
     "duration": 0.610504,
     "end_time": "2022-04-01T17:17:58.497491",
     "exception": false,
     "start_time": "2022-04-01T17:17:57.886987",
     "status": "completed"
    },
    "tags": []
   },
   "outputs": [
    {
     "data": {
      "text/plain": [
       "<seaborn.axisgrid.FacetGrid at 0x7fb43b1d1950>"
      ]
     },
     "execution_count": 7,
     "metadata": {},
     "output_type": "execute_result"
    },
    {
     "data": {
      "image/png": "[encoded data removed]",
      "text/plain": [
       "<Figure size 666.05x432 with 1 Axes>"
      ]
     },
     "metadata": {
      "needs_background": "light"
     },
     "output_type": "display_data"
    }
   ],
   "source": [
    "sns.displot(\n",
    "  data=df_train,\n",
    "  x=\"SalePrice\",\n",
    "  kind=\"ecdf\",\n",
    "  hue=\"YrSold\",\n",
    "  height=6,\n",
    "  aspect=1.4,\n",
    "  stat=\"count\"\n",
    ")"
   ]
  },
  {
   "cell_type": "markdown",
   "id": "a45a4e41",
   "metadata": {
    "papermill": {
     "duration": 0.039863,
     "end_time": "2022-04-01T17:17:58.577678",
     "exception": false,
     "start_time": "2022-04-01T17:17:58.537815",
     "status": "completed"
    },
    "tags": []
   },
   "source": [
    "**Lets see what type of residential area is preffered most by buyers and to see which type of zone, house type is most preferred**"
   ]
  },
  {
   "cell_type": "code",
   "execution_count": 8,
   "id": "9b94991f",
   "metadata": {
    "execution": {
     "iopub.execute_input": "2022-04-01T17:17:58.660519Z",
     "iopub.status.busy": "2022-04-01T17:17:58.659874Z",
     "iopub.status.idle": "2022-04-01T17:17:58.858147Z",
     "shell.execute_reply": "2022-04-01T17:17:58.857615Z",
     "shell.execute_reply.started": "2022-04-01T16:51:38.913087Z"
    },
    "papermill": {
     "duration": 0.241369,
     "end_time": "2022-04-01T17:17:58.858324",
     "exception": false,
     "start_time": "2022-04-01T17:17:58.616955",
     "status": "completed"
    },
    "tags": []
   },
   "outputs": [
    {
     "data": {
      "text/plain": [
       "<AxesSubplot:xlabel='MSZoning', ylabel='count'>"
      ]
     },
     "execution_count": 8,
     "metadata": {},
     "output_type": "execute_result"
    },
    {
     "data": {
      "image/png": "[encoded data removed]",
      "text/plain": [
       "<Figure size 432x288 with 1 Axes>"
      ]
     },
     "metadata": {
      "needs_background": "light"
     },
     "output_type": "display_data"
    }
   ],
   "source": [
    "sns.countplot(x='MSZoning', data=df_train)"
   ]
  },
  {
   "cell_type": "markdown",
   "id": "e52a8c84",
   "metadata": {
    "papermill": {
     "duration": 0.040912,
     "end_time": "2022-04-01T17:17:58.941252",
     "exception": false,
     "start_time": "2022-04-01T17:17:58.900340",
     "status": "completed"
    },
    "tags": []
   },
   "source": [
    "**Lets see the most preferred house type**"
   ]
  },
  {
   "cell_type": "code",
   "execution_count": 9,
   "id": "9297cdaf",
   "metadata": {
    "execution": {
     "iopub.execute_input": "2022-04-01T17:17:59.028407Z",
     "iopub.status.busy": "2022-04-01T17:17:59.027612Z",
     "iopub.status.idle": "2022-04-01T17:17:59.253859Z",
     "shell.execute_reply": "2022-04-01T17:17:59.253195Z",
     "shell.execute_reply.started": "2022-04-01T16:51:45.543655Z"
    },
    "papermill": {
     "duration": 0.270561,
     "end_time": "2022-04-01T17:17:59.254030",
     "exception": false,
     "start_time": "2022-04-01T17:17:58.983469",
     "status": "completed"
    },
    "tags": []
   },
   "outputs": [
    {
     "data": {
      "text/plain": [
       "<AxesSubplot:xlabel='HouseStyle', ylabel='count'>"
      ]
     },
     "execution_count": 9,
     "metadata": {},
     "output_type": "execute_result"
    },
    {
     "data": {
      "image/png": "[encoded data removed]",
      "text/plain": [
       "<Figure size 432x288 with 1 Axes>"
      ]
     },
     "metadata": {
      "needs_background": "light"
     },
     "output_type": "display_data"
    }
   ],
   "source": [
    "sns.countplot(x='HouseStyle', data=df_train)"
   ]
  },
  {
   "cell_type": "markdown",
   "id": "628071cb",
   "metadata": {
    "papermill": {
     "duration": 0.041909,
     "end_time": "2022-04-01T17:17:59.339060",
     "exception": false,
     "start_time": "2022-04-01T17:17:59.297151",
     "status": "completed"
    },
    "tags": []
   },
   "source": [
    "**Lets see the years the houses were built and their respective statistics**"
   ]
  },
  {
   "cell_type": "code",
   "execution_count": 10,
   "id": "ce716a9f",
   "metadata": {
    "execution": {
     "iopub.execute_input": "2022-04-01T17:17:59.435018Z",
     "iopub.status.busy": "2022-04-01T17:17:59.434294Z",
     "iopub.status.idle": "2022-04-01T17:17:59.438103Z",
     "shell.execute_reply": "2022-04-01T17:17:59.437551Z",
     "shell.execute_reply.started": "2022-04-01T16:52:49.626684Z"
    },
    "papermill": {
     "duration": 0.057002,
     "end_time": "2022-04-01T17:17:59.438246",
     "exception": false,
     "start_time": "2022-04-01T17:17:59.381244",
     "status": "completed"
    },
    "tags": []
   },
   "outputs": [
    {
     "data": {
      "text/plain": [
       "count    1460.000000\n",
       "mean     1971.267808\n",
       "std        30.202904\n",
       "min      1872.000000\n",
       "25%      1954.000000\n",
       "50%      1973.000000\n",
       "75%      2000.000000\n",
       "max      2010.000000\n",
       "Name: YearBuilt, dtype: float64"
      ]
     },
     "execution_count": 10,
     "metadata": {},
     "output_type": "execute_result"
    }
   ],
   "source": [
    "df_train['YearBuilt'].describe()"
   ]
  },
  {
   "cell_type": "markdown",
   "id": "f01ffd7e",
   "metadata": {
    "papermill": {
     "duration": 0.042845,
     "end_time": "2022-04-01T17:17:59.523608",
     "exception": false,
     "start_time": "2022-04-01T17:17:59.480763",
     "status": "completed"
    },
    "tags": []
   },
   "source": [
    "**Now lets see the number of rooms preferred in a house over the years**"
   ]
  },
  {
   "cell_type": "code",
   "execution_count": 11,
   "id": "2a17f674",
   "metadata": {
    "execution": {
     "iopub.execute_input": "2022-04-01T17:17:59.612804Z",
     "iopub.status.busy": "2022-04-01T17:17:59.612139Z",
     "iopub.status.idle": "2022-04-01T17:18:00.644223Z",
     "shell.execute_reply": "2022-04-01T17:18:00.643571Z",
     "shell.execute_reply.started": "2022-04-01T16:53:38.794569Z"
    },
    "papermill": {
     "duration": 1.078346,
     "end_time": "2022-04-01T17:18:00.644402",
     "exception": false,
     "start_time": "2022-04-01T17:17:59.566056",
     "status": "completed"
    },
    "tags": []
   },
   "outputs": [
    {
     "data": {
      "text/plain": [
       "<seaborn.axisgrid.FacetGrid at 0x7fb40878ea90>"
      ]
     },
     "execution_count": 11,
     "metadata": {},
     "output_type": "execute_result"
    },
    {
     "data": {
      "image/png": "[encoded data removed]",
      "text/plain": [
       "<Figure size 1800x360 with 5 Axes>"
      ]
     },
     "metadata": {
      "needs_background": "light"
     },
     "output_type": "display_data"
    }
   ],
   "source": [
    "sns.catplot(x= 'BedroomAbvGr' , kind= 'count', data = df_train , col = 'YrSold')"
   ]
  },
  {
   "cell_type": "markdown",
   "id": "c9212303",
   "metadata": {
    "papermill": {
     "duration": 0.044174,
     "end_time": "2022-04-01T17:18:00.735051",
     "exception": false,
     "start_time": "2022-04-01T17:18:00.690877",
     "status": "completed"
    },
    "tags": []
   },
   "source": [
    "**From the above cell we can easily see that 3 Bedrooms houses are preferred the most.**"
   ]
  },
  {
   "cell_type": "code",
   "execution_count": 12,
   "id": "97753dd9",
   "metadata": {
    "execution": {
     "iopub.execute_input": "2022-04-01T17:18:00.830801Z",
     "iopub.status.busy": "2022-04-01T17:18:00.830051Z",
     "iopub.status.idle": "2022-04-01T17:18:01.394925Z",
     "shell.execute_reply": "2022-04-01T17:18:01.395471Z",
     "shell.execute_reply.started": "2022-04-01T17:01:27.266350Z"
    },
    "papermill": {
     "duration": 0.616093,
     "end_time": "2022-04-01T17:18:01.395660",
     "exception": false,
     "start_time": "2022-04-01T17:18:00.779567",
     "status": "completed"
    },
    "tags": []
   },
   "outputs": [],
   "source": [
    "from sklearn.model_selection import train_test_split\n",
    "from sklearn.metrics import mean_absolute_error\n",
    "from sklearn.tree import DecisionTreeRegressor\n",
    "from sklearn.ensemble import RandomForestRegressor\n",
    "from sklearn.linear_model import LogisticRegression"
   ]
  },
  {
   "cell_type": "markdown",
   "id": "5d8160c3",
   "metadata": {
    "papermill": {
     "duration": 0.044179,
     "end_time": "2022-04-01T17:18:01.484256",
     "exception": false,
     "start_time": "2022-04-01T17:18:01.440077",
     "status": "completed"
    },
    "tags": []
   },
   "source": [
    "**Dealing with null values.**"
   ]
  },
  {
   "cell_type": "code",
   "execution_count": 13,
   "id": "f66a18df",
   "metadata": {
    "execution": {
     "iopub.execute_input": "2022-04-01T17:18:01.578556Z",
     "iopub.status.busy": "2022-04-01T17:18:01.577853Z",
     "iopub.status.idle": "2022-04-01T17:18:01.579804Z",
     "shell.execute_reply": "2022-04-01T17:18:01.580232Z",
     "shell.execute_reply.started": "2022-04-01T17:02:10.154570Z"
    },
    "papermill": {
     "duration": 0.052188,
     "end_time": "2022-04-01T17:18:01.580417",
     "exception": false,
     "start_time": "2022-04-01T17:18:01.528229",
     "status": "completed"
    },
    "tags": []
   },
   "outputs": [],
   "source": [
    "def find_nan_cols(df):\n",
    "    null = df.isnull().sum()\n",
    "    missing_df = pd.concat([null], axis=1, keys=['nancount'])\n",
    "\n",
    "    return missing_df[(missing_df.nancount > 0)]"
   ]
  },
  {
   "cell_type": "code",
   "execution_count": 14,
   "id": "b6e0d7cf",
   "metadata": {
    "execution": {
     "iopub.execute_input": "2022-04-01T17:18:01.671650Z",
     "iopub.status.busy": "2022-04-01T17:18:01.670970Z",
     "iopub.status.idle": "2022-04-01T17:18:01.730238Z",
     "shell.execute_reply": "2022-04-01T17:18:01.731025Z",
     "shell.execute_reply.started": "2022-04-01T17:02:21.122577Z"
    },
    "papermill": {
     "duration": 0.106978,
     "end_time": "2022-04-01T17:18:01.731201",
     "exception": false,
     "start_time": "2022-04-01T17:18:01.624223",
     "status": "completed"
    },
    "tags": []
   },
   "outputs": [
    {
     "name": "stdout",
     "output_type": "stream",
     "text": [
      "229\n",
      "553\n"
     ]
    }
   ],
   "source": [
    "df_train= df_train.fillna(method='pad')\n",
    "df_test = df_test.fillna(method='pad')\n",
    "print(df_train.isnull().sum().sum())\n",
    "print(df_test.isnull().sum().sum())"
   ]
  },
  {
   "cell_type": "code",
   "execution_count": 15,
   "id": "a021e8ef",
   "metadata": {
    "execution": {
     "iopub.execute_input": "2022-04-01T17:18:01.830258Z",
     "iopub.status.busy": "2022-04-01T17:18:01.829198Z",
     "iopub.status.idle": "2022-04-01T17:18:01.868991Z",
     "shell.execute_reply": "2022-04-01T17:18:01.868422Z",
     "shell.execute_reply.started": "2022-04-01T17:02:38.205256Z"
    },
    "papermill": {
     "duration": 0.092777,
     "end_time": "2022-04-01T17:18:01.869157",
     "exception": false,
     "start_time": "2022-04-01T17:18:01.776380",
     "status": "completed"
    },
    "tags": []
   },
   "outputs": [
    {
     "name": "stdout",
     "output_type": "stream",
     "text": [
      "             nancount\n",
      "Alley              21\n",
      "FireplaceQu         1\n",
      "PoolQC            197\n",
      "Fence               5\n",
      "MiscFeature         5\n",
      "             nancount\n",
      "Alley              36\n",
      "FireplaceQu         2\n",
      "PoolQC            514\n",
      "MiscFeature         1\n"
     ]
    }
   ],
   "source": [
    "train_null = find_nan_cols(df_train)\n",
    "test_null = find_nan_cols(df_test)\n",
    "print(train_null)\n",
    "print(test_null)"
   ]
  },
  {
   "cell_type": "markdown",
   "id": "8abcdee7",
   "metadata": {
    "papermill": {
     "duration": 0.045551,
     "end_time": "2022-04-01T17:18:01.961741",
     "exception": false,
     "start_time": "2022-04-01T17:18:01.916190",
     "status": "completed"
    },
    "tags": []
   },
   "source": [
    "**Removing unnecessary columns with null values.**"
   ]
  },
  {
   "cell_type": "code",
   "execution_count": 16,
   "id": "d0fffed0",
   "metadata": {
    "execution": {
     "iopub.execute_input": "2022-04-01T17:18:02.066592Z",
     "iopub.status.busy": "2022-04-01T17:18:02.064883Z",
     "iopub.status.idle": "2022-04-01T17:18:02.073448Z",
     "shell.execute_reply": "2022-04-01T17:18:02.072747Z",
     "shell.execute_reply.started": "2022-04-01T17:04:11.716811Z"
    },
    "papermill": {
     "duration": 0.066462,
     "end_time": "2022-04-01T17:18:02.073607",
     "exception": false,
     "start_time": "2022-04-01T17:18:02.007145",
     "status": "completed"
    },
    "tags": []
   },
   "outputs": [
    {
     "name": "stderr",
     "output_type": "stream",
     "text": [
      "/opt/conda/lib/python3.7/site-packages/ipykernel_launcher.py:1: FutureWarning: In a future version of pandas all arguments of DataFrame.drop except for the argument 'labels' will be keyword-only\n",
      "  \"\"\"Entry point for launching an IPython kernel.\n",
      "/opt/conda/lib/python3.7/site-packages/ipykernel_launcher.py:2: FutureWarning: In a future version of pandas all arguments of DataFrame.drop except for the argument 'labels' will be keyword-only\n",
      "  \n"
     ]
    }
   ],
   "source": [
    "df_train.drop(['Id','Alley', 'FireplaceQu', 'PoolQC', 'Fence', 'MiscFeature'], 1, inplace= True)\n",
    "df_test.drop(['Id','Alley', 'FireplaceQu', 'PoolQC', 'Fence', 'MiscFeature'], 1, inplace= True)"
   ]
  },
  {
   "cell_type": "code",
   "execution_count": 17,
   "id": "01412b52",
   "metadata": {
    "execution": {
     "iopub.execute_input": "2022-04-01T17:18:02.169091Z",
     "iopub.status.busy": "2022-04-01T17:18:02.168418Z",
     "iopub.status.idle": "2022-04-01T17:18:02.189719Z",
     "shell.execute_reply": "2022-04-01T17:18:02.190299Z",
     "shell.execute_reply.started": "2022-04-01T17:05:04.093080Z"
    },
    "papermill": {
     "duration": 0.070677,
     "end_time": "2022-04-01T17:18:02.190515",
     "exception": false,
     "start_time": "2022-04-01T17:18:02.119838",
     "status": "completed"
    },
    "tags": []
   },
   "outputs": [
    {
     "name": "stdout",
     "output_type": "stream",
     "text": [
      "Null values in train_df: 0\n",
      "Null values in test_df: 0\n"
     ]
    }
   ],
   "source": [
    "print('Null values in train_df:',df_train.isnull().sum().sum())\n",
    "print('Null values in test_df:',df_test.isnull().sum().sum())"
   ]
  },
  {
   "cell_type": "markdown",
   "id": "808281e2",
   "metadata": {
    "papermill": {
     "duration": 0.045493,
     "end_time": "2022-04-01T17:18:02.282917",
     "exception": false,
     "start_time": "2022-04-01T17:18:02.237424",
     "status": "completed"
    },
    "tags": []
   },
   "source": [
    "### Model Training"
   ]
  },
  {
   "cell_type": "code",
   "execution_count": 18,
   "id": "8c7bfacd",
   "metadata": {
    "execution": {
     "iopub.execute_input": "2022-04-01T17:18:02.386315Z",
     "iopub.status.busy": "2022-04-01T17:18:02.385598Z",
     "iopub.status.idle": "2022-04-01T17:18:02.387528Z",
     "shell.execute_reply": "2022-04-01T17:18:02.388009Z",
     "shell.execute_reply.started": "2022-04-01T17:05:51.628804Z"
    },
    "papermill": {
     "duration": 0.059315,
     "end_time": "2022-04-01T17:18:02.388201",
     "exception": false,
     "start_time": "2022-04-01T17:18:02.328886",
     "status": "completed"
    },
    "tags": []
   },
   "outputs": [],
   "source": [
    "y = df_train.SalePrice\n",
    "X = df_train.drop(['SalePrice'], axis=1).select_dtypes(exclude=['object'])\n",
    "x = df_test.select_dtypes(exclude=['object'])"
   ]
  },
  {
   "cell_type": "code",
   "execution_count": 19,
   "id": "bebbae53",
   "metadata": {
    "execution": {
     "iopub.execute_input": "2022-04-01T17:18:02.484371Z",
     "iopub.status.busy": "2022-04-01T17:18:02.483628Z",
     "iopub.status.idle": "2022-04-01T17:18:02.488680Z",
     "shell.execute_reply": "2022-04-01T17:18:02.489173Z",
     "shell.execute_reply.started": "2022-04-01T17:06:03.226338Z"
    },
    "papermill": {
     "duration": 0.055277,
     "end_time": "2022-04-01T17:18:02.489392",
     "exception": false,
     "start_time": "2022-04-01T17:18:02.434115",
     "status": "completed"
    },
    "tags": []
   },
   "outputs": [],
   "source": [
    "X_train, X_test, y_train, y_test = train_test_split(X, y, test_size=0.25)"
   ]
  },
  {
   "cell_type": "markdown",
   "id": "d3f64460",
   "metadata": {
    "papermill": {
     "duration": 0.046097,
     "end_time": "2022-04-01T17:18:02.588602",
     "exception": false,
     "start_time": "2022-04-01T17:18:02.542505",
     "status": "completed"
    },
    "tags": []
   },
   "source": [
    "#### Decision tree model"
   ]
  },
  {
   "cell_type": "code",
   "execution_count": 20,
   "id": "0acaee1b",
   "metadata": {
    "execution": {
     "iopub.execute_input": "2022-04-01T17:18:02.684547Z",
     "iopub.status.busy": "2022-04-01T17:18:02.683816Z",
     "iopub.status.idle": "2022-04-01T17:18:02.710459Z",
     "shell.execute_reply": "2022-04-01T17:18:02.710995Z",
     "shell.execute_reply.started": "2022-04-01T17:11:46.731741Z"
    },
    "papermill": {
     "duration": 0.076283,
     "end_time": "2022-04-01T17:18:02.711195",
     "exception": false,
     "start_time": "2022-04-01T17:18:02.634912",
     "status": "completed"
    },
    "tags": []
   },
   "outputs": [
    {
     "name": "stdout",
     "output_type": "stream",
     "text": [
      "Decision Tree Error : 26799.865753424656\n"
     ]
    }
   ],
   "source": [
    "model_1 = DecisionTreeRegressor()  \n",
    "model_1.fit(X_train, y_train) \n",
    "DTR_pred = model_1.predict(X_test)\n",
    "print (\"Decision Tree Error :\", mean_absolute_error(y_test, DTR_pred))"
   ]
  },
  {
   "cell_type": "markdown",
   "id": "513ac44b",
   "metadata": {
    "papermill": {
     "duration": 0.04634,
     "end_time": "2022-04-01T17:18:02.804057",
     "exception": false,
     "start_time": "2022-04-01T17:18:02.757717",
     "status": "completed"
    },
    "tags": []
   },
   "source": [
    "#### Random Forest model"
   ]
  },
  {
   "cell_type": "code",
   "execution_count": 21,
   "id": "d580d215",
   "metadata": {
    "execution": {
     "iopub.execute_input": "2022-04-01T17:18:02.900447Z",
     "iopub.status.busy": "2022-04-01T17:18:02.899739Z",
     "iopub.status.idle": "2022-04-01T17:18:03.848463Z",
     "shell.execute_reply": "2022-04-01T17:18:03.848972Z",
     "shell.execute_reply.started": "2022-04-01T17:12:29.959687Z"
    },
    "papermill": {
     "duration": 0.998667,
     "end_time": "2022-04-01T17:18:03.849159",
     "exception": false,
     "start_time": "2022-04-01T17:18:02.850492",
     "status": "completed"
    },
    "tags": []
   },
   "outputs": [
    {
     "name": "stdout",
     "output_type": "stream",
     "text": [
      "Random Forest Error: 19133.899263762825\n"
     ]
    }
   ],
   "source": [
    "model_2 = RandomForestRegressor(n_estimators=100, max_depth=10)\n",
    "model_2.fit(X_train, y_train )\n",
    "RF_pred = model_2.predict(X_test)\n",
    "print(\"Random Forest Error:\", mean_absolute_error(y_test, RF_pred))"
   ]
  },
  {
   "cell_type": "markdown",
   "id": "3d393e4f",
   "metadata": {
    "papermill": {
     "duration": 0.046146,
     "end_time": "2022-04-01T17:18:03.941838",
     "exception": false,
     "start_time": "2022-04-01T17:18:03.895692",
     "status": "completed"
    },
    "tags": []
   },
   "source": [
    "#### Logistic Regression Model"
   ]
  },
  {
   "cell_type": "code",
   "execution_count": 22,
   "id": "9d1a51ed",
   "metadata": {
    "execution": {
     "iopub.execute_input": "2022-04-01T17:18:04.038912Z",
     "iopub.status.busy": "2022-04-01T17:18:04.038217Z",
     "iopub.status.idle": "2022-04-01T17:18:15.774790Z",
     "shell.execute_reply": "2022-04-01T17:18:15.775870Z",
     "shell.execute_reply.started": "2022-04-01T17:12:35.996753Z"
    },
    "papermill": {
     "duration": 11.788083,
     "end_time": "2022-04-01T17:18:15.776151",
     "exception": false,
     "start_time": "2022-04-01T17:18:03.988068",
     "status": "completed"
    },
    "tags": []
   },
   "outputs": [
    {
     "name": "stdout",
     "output_type": "stream",
     "text": [
      "Logistic Regression Error: 40849.74246575342\n"
     ]
    },
    {
     "name": "stderr",
     "output_type": "stream",
     "text": [
      "/opt/conda/lib/python3.7/site-packages/sklearn/linear_model/_logistic.py:818: ConvergenceWarning: lbfgs failed to converge (status=1):\n",
      "STOP: TOTAL NO. of ITERATIONS REACHED LIMIT.\n",
      "\n",
      "Increase the number of iterations (max_iter) or scale the data as shown in:\n",
      "    https://scikit-learn.org/stable/modules/preprocessing.html\n",
      "Please also refer to the documentation for alternative solver options:\n",
      "    https://scikit-learn.org/stable/modules/linear_model.html#logistic-regression\n",
      "  extra_warning_msg=_LOGISTIC_SOLVER_CONVERGENCE_MSG,\n"
     ]
    }
   ],
   "source": [
    "model_3 = LogisticRegression()\n",
    "model_3 = model_3.fit (X_train,y_train)\n",
    "LR_pred = model_3.predict(X_test)\n",
    "print(\"Logistic Regression Error:\", mean_absolute_error(y_test, LR_pred))"
   ]
  },
  {
   "cell_type": "markdown",
   "id": "50e36e42",
   "metadata": {
    "papermill": {
     "duration": 0.047438,
     "end_time": "2022-04-01T17:18:15.940465",
     "exception": false,
     "start_time": "2022-04-01T17:18:15.893027",
     "status": "completed"
    },
    "tags": []
   },
   "source": [
    "### Model Prediction"
   ]
  },
  {
   "cell_type": "code",
   "execution_count": 23,
   "id": "c4e736ac",
   "metadata": {
    "execution": {
     "iopub.execute_input": "2022-04-01T17:18:16.043133Z",
     "iopub.status.busy": "2022-04-01T17:18:16.041926Z",
     "iopub.status.idle": "2022-04-01T17:18:16.074696Z",
     "shell.execute_reply": "2022-04-01T17:18:16.075233Z",
     "shell.execute_reply.started": "2022-04-01T17:17:00.069444Z"
    },
    "papermill": {
     "duration": 0.087427,
     "end_time": "2022-04-01T17:18:16.075416",
     "exception": false,
     "start_time": "2022-04-01T17:18:15.987989",
     "status": "completed"
    },
    "tags": []
   },
   "outputs": [
    {
     "data": {
      "text/plain": [
       "array([128717.18240159, 155275.743983  , 179962.98462946, ...,\n",
       "       166377.13838739, 114421.88899932, 227332.64426648])"
      ]
     },
     "execution_count": 23,
     "metadata": {},
     "output_type": "execute_result"
    }
   ],
   "source": [
    "RF_pred = model_2.predict(x)\n",
    "RF_pred"
   ]
  },
  {
   "cell_type": "code",
   "execution_count": 24,
   "id": "04cc0365",
   "metadata": {
    "execution": {
     "iopub.execute_input": "2022-04-01T17:18:16.177767Z",
     "iopub.status.busy": "2022-04-01T17:18:16.177032Z",
     "iopub.status.idle": "2022-04-01T17:18:16.180484Z",
     "shell.execute_reply": "2022-04-01T17:18:16.181061Z",
     "shell.execute_reply.started": "2022-04-01T17:15:35.259165Z"
    },
    "papermill": {
     "duration": 0.056181,
     "end_time": "2022-04-01T17:18:16.181246",
     "exception": false,
     "start_time": "2022-04-01T17:18:16.125065",
     "status": "completed"
    },
    "tags": []
   },
   "outputs": [],
   "source": [
    "Final_pred = pd.DataFrame(RF_pred)"
   ]
  },
  {
   "cell_type": "code",
   "execution_count": 25,
   "id": "92ff2ab8",
   "metadata": {
    "execution": {
     "iopub.execute_input": "2022-04-01T17:18:16.281359Z",
     "iopub.status.busy": "2022-04-01T17:18:16.280583Z",
     "iopub.status.idle": "2022-04-01T17:18:16.302606Z",
     "shell.execute_reply": "2022-04-01T17:18:16.303163Z",
     "shell.execute_reply.started": "2022-04-01T17:15:45.338785Z"
    },
    "papermill": {
     "duration": 0.073778,
     "end_time": "2022-04-01T17:18:16.303421",
     "exception": false,
     "start_time": "2022-04-01T17:18:16.229643",
     "status": "completed"
    },
    "tags": []
   },
   "outputs": [],
   "source": [
    "pred=pd.DataFrame(Final_pred)\n",
    "sub_df=pd.read_csv('../input/house-prices-advanced-regression-techniques/sample_submission.csv')\n",
    "datasets=pd.concat([sub_df['Id'],Final_pred],axis=1)\n",
    "datasets.columns=['Id','SalePrice']\n",
    "datasets.to_csv('./submission.csv',index=False)"
   ]
  }
 ],
 "metadata": {
  "kernelspec": {
   "display_name": "Python 3",
   "language": "python",
   "name": "python3"
  },
  "language_info": {
   "codemirror_mode": {
    "name": "ipython",
    "version": 3
   },
   "file_extension": ".py",
   "mimetype": "text/x-python",
   "name": "python",
   "nbconvert_exporter": "python",
   "pygments_lexer": "ipython3",
   "version": "3.7.12"
  },
  "papermill": {
   "default_parameters": {},
   "duration": 31.738742,
   "end_time": "2022-04-01T17:18:17.166150",
   "environment_variables": {},
   "exception": null,
   "input_path": "__notebook__.ipynb",
   "output_path": "__notebook__.ipynb",
   "parameters": {},
   "start_time": "2022-04-01T17:17:45.427408",
   "version": "2.3.3"
  }
 },
 "nbformat": 4,
 "nbformat_minor": 5
}
